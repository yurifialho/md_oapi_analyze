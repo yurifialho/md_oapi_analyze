{
 "metadata": {
  "language_info": {
   "codemirror_mode": {
    "name": "ipython",
    "version": 3
   },
   "file_extension": ".py",
   "mimetype": "text/x-python",
   "name": "python",
   "nbconvert_exporter": "python",
   "pygments_lexer": "ipython3",
   "version": "3.8.3-final"
  },
  "orig_nbformat": 2,
  "kernelspec": {
   "name": "python3",
   "display_name": "Python 3.8.3 64-bit ('.venv')",
   "metadata": {
    "interpreter": {
     "hash": "2f9c0f5040071c656b3f0220fa3e1bc1333bcd42d9a8a2d708320656a1edc9e0"
    }
   }
  }
 },
 "nbformat": 4,
 "nbformat_minor": 2,
 "cells": [
  {
   "source": [
    "# Analise de Swagger (OpenAPI Specification) with LDA + WordNet\n",
    "\n",
    "## 1. Importando Arquivos e Parse do Formato\n",
    "\n",
    "Verificando se o arquivo está no formato adequado, caso não esteja é descartado"
   ],
   "cell_type": "markdown",
   "metadata": {}
  },
  {
   "cell_type": "code",
   "execution_count": 4,
   "metadata": {},
   "outputs": [
    {
     "output_type": "stream",
     "name": "stdout",
     "text": [
      "file:999/1392CorpusSize:1000 ReadFiles:1393 InvalidFiles:245 GenericErros:148\n"
     ]
    }
   ],
   "source": [
    "# \n",
    "\n",
    "from prance import ResolvingParser, ValidationError\n",
    "import json \n",
    "dataFolder = \"dados\"\n",
    "listSwagger = []\n",
    "count = 0\n",
    "countReadFiles = 0\n",
    "countGenericErros = 0\n",
    "countInvalidFormat = 0\n",
    "for fileName in os.listdir(dataFolder):\n",
    "    countReadFiles += 1\n",
    "    try:\n",
    "        parser = ResolvingParser(os.path.join(dataFolder,fileName),backend = 'openapi-spec-validator')\n",
    "        listSwagger.append(parser.json())\n",
    "        count += 1\n",
    "    except ValidationError:\n",
    "        countInvalidFormat += 1 \n",
    "        #print(f\"{fileName} droped format invalid\")\n",
    "    except Exception:\n",
    "        countGenericErros += 1\n",
    "        #print(f\"{fileName} generic error\")\n",
    "    if count == 1000:\n",
    "        break\n",
    "    print(\"\\r\",end=\"\")\n",
    "    print(f\"file:{count}/{countReadFiles}\",end=\"\")\n",
    "\n",
    "print(f\"CorpusSize:{count} ReadFiles:{countReadFiles} InvalidFiles:{countInvalidFormat} GenericErros:{countGenericErros}\")"
   ]
  },
  {
   "source": [
    "## 2. Gerando o Corpus - Seleção dos atributos do arquivo"
   ],
   "cell_type": "markdown",
   "metadata": {}
  },
  {
   "cell_type": "code",
   "execution_count": 48,
   "metadata": {},
   "outputs": [
    {
     "output_type": "stream",
     "name": "stderr",
     "text": [
      "c:\\Users\\fialho\\Desktop\\py_extract_swagger\\.venv\\lib\\site-packages\\ipykernel\\ipkernel.py:287: DeprecationWarning: `should_run_async` will not call `transform_cell` automatically in the future. Please pass the result to `transformed_cell` argument and any exception that happen during thetransform in `preprocessing_exc_tuple` in IPython 7.17 and above.\n  and should_run_async(code)\n"
     ]
    }
   ],
   "source": [
    "docs = []\n",
    "\n",
    "for i in range(len(listSwagger)):\n",
    "    try:\n",
    "        swagger = json.loads(listSwagger[i])\n",
    "        doc = \"\"\n",
    "        doc+= f\"{i}\\n\" # indice do documento\n",
    "        doc+= \"TITLE: \" + swagger['info']['title'] + '\\n' # titulo\n",
    "        doc+= \"DESCRIPTION: \" + (swagger['info']['description'] if 'description' in swagger['info'] else \"\")  # descricao\n",
    "\n",
    "        docs.append(doc)\n",
    "    except KeyError as e:\n",
    "        print(f\"{i} - KeyError:{e}\")"
   ]
  },
  {
   "cell_type": "code",
   "execution_count": 49,
   "metadata": {},
   "outputs": [
    {
     "output_type": "stream",
     "name": "stdout",
     "text": [
      "30\n",
      "TITLE: Zeus API\n",
      "DESCRIPTION: API for Poseidon frontend\n",
      "c:\\Users\\fialho\\Desktop\\py_extract_swagger\\.venv\\lib\\site-packages\\ipykernel\\ipkernel.py:287: DeprecationWarning: `should_run_async` will not call `transform_cell` automatically in the future. Please pass the result to `transformed_cell` argument and any exception that happen during thetransform in `preprocessing_exc_tuple` in IPython 7.17 and above.\n",
      "  and should_run_async(code)\n"
     ]
    }
   ],
   "source": [
    "print(docs[30])"
   ]
  },
  {
   "source": [
    "## 3. Tokenizando o documento"
   ],
   "cell_type": "markdown",
   "metadata": {}
  },
  {
   "cell_type": "code",
   "execution_count": 50,
   "metadata": {},
   "outputs": [
    {
     "output_type": "stream",
     "name": "stderr",
     "text": [
      "c:\\Users\\fialho\\Desktop\\py_extract_swagger\\.venv\\lib\\site-packages\\ipykernel\\ipkernel.py:287: DeprecationWarning: `should_run_async` will not call `transform_cell` automatically in the future. Please pass the result to `transformed_cell` argument and any exception that happen during thetransform in `preprocessing_exc_tuple` in IPython 7.17 and above.\n  and should_run_async(code)\nC:\\Python38\\lib\\asyncio\\events.py:81: DeprecationWarning: `run_cell_async` will not call `transform_cell` automatically in the future. Please pass the result to `transformed_cell` argument and any exception that happen during thetransform in `preprocessing_exc_tuple` in IPython 7.17 and above.\n  self._context.run(self._callback, *self._args)\n"
     ]
    }
   ],
   "source": [
    "import re\n",
    "from nltk.tokenize import RegexpTokenizer\n",
    "from gensim.utils import simple_preprocess\n",
    "from nltk.corpus import stopwords\n",
    "\n",
    "# Split the documents into tokens.\n",
    "tokenizer = RegexpTokenizer(r'\\w+')\n",
    "for idx in range(len(docs)):\n",
    "    docs[idx] = docs[idx].lower()  # Convert to lowercase.\n",
    "    docs[idx] = tokenizer.tokenize(docs[idx])  # Split into words.\n",
    "\n",
    "# Remove numbers, but not words that contain numbers.\n",
    "docs = [[token for token in doc if not token.isnumeric()] for doc in docs]\n",
    "\n",
    "# Remove words that are only one character.\n",
    "docs = [[token for token in doc if len(token) > 1] for doc in docs]\n",
    "\n",
    "# Remove distracting single quotes\n",
    "docs = [[re.sub(\"\\'\", \"\", token) for token in doc] for doc in docs]\n",
    "\n",
    "stopWords = stopwords.words('english')\n",
    "stopWords.extend(['api','apis','www','http','com','app','use'])\n",
    "# Remove StopWords\n",
    "docs = [[word for word in simple_preprocess(str(doc)) if word not in stopWords] for doc in docs]\n"
   ]
  },
  {
   "cell_type": "code",
   "execution_count": 51,
   "metadata": {
    "tags": []
   },
   "outputs": [
    {
     "output_type": "stream",
     "name": "stdout",
     "text": [
      "['title', 'simple', 'inventory', 'description', 'simple']\n",
      "c:\\Users\\fialho\\Desktop\\py_extract_swagger\\.venv\\lib\\site-packages\\ipykernel\\ipkernel.py:287: DeprecationWarning: `should_run_async` will not call `transform_cell` automatically in the future. Please pass the result to `transformed_cell` argument and any exception that happen during thetransform in `preprocessing_exc_tuple` in IPython 7.17 and above.\n",
      "  and should_run_async(code)\n"
     ]
    }
   ],
   "source": [
    "print(docs[0])"
   ]
  },
  {
   "source": [
    "## 4. Lamatizatizando utilizando Wordnet"
   ],
   "cell_type": "markdown",
   "metadata": {}
  },
  {
   "cell_type": "code",
   "execution_count": 52,
   "metadata": {},
   "outputs": [
    {
     "output_type": "stream",
     "name": "stderr",
     "text": [
      "c:\\Users\\fialho\\Desktop\\py_extract_swagger\\.venv\\lib\\site-packages\\ipykernel\\ipkernel.py:287: DeprecationWarning: `should_run_async` will not call `transform_cell` automatically in the future. Please pass the result to `transformed_cell` argument and any exception that happen during thetransform in `preprocessing_exc_tuple` in IPython 7.17 and above.\n  and should_run_async(code)\nC:\\Python38\\lib\\asyncio\\events.py:81: DeprecationWarning: `run_cell_async` will not call `transform_cell` automatically in the future. Please pass the result to `transformed_cell` argument and any exception that happen during thetransform in `preprocessing_exc_tuple` in IPython 7.17 and above.\n  self._context.run(self._callback, *self._args)\n"
     ]
    }
   ],
   "source": [
    "from nltk.stem.wordnet import WordNetLemmatizer\n",
    "\n",
    "lemmatizer = WordNetLemmatizer()\n",
    "docs = [[lemmatizer.lemmatize(token) for token in doc] for doc in docs]"
   ]
  },
  {
   "cell_type": "code",
   "execution_count": 53,
   "metadata": {},
   "outputs": [
    {
     "output_type": "stream",
     "name": "stdout",
     "text": [
      "['title', 'simple', 'inventory', 'description', 'simple']\n",
      "c:\\Users\\fialho\\Desktop\\py_extract_swagger\\.venv\\lib\\site-packages\\ipykernel\\ipkernel.py:287: DeprecationWarning: `should_run_async` will not call `transform_cell` automatically in the future. Please pass the result to `transformed_cell` argument and any exception that happen during thetransform in `preprocessing_exc_tuple` in IPython 7.17 and above.\n",
      "  and should_run_async(code)\n"
     ]
    }
   ],
   "source": [
    "print(docs[0])"
   ]
  },
  {
   "source": [
    "## 5. Computando o Bigramas"
   ],
   "cell_type": "markdown",
   "metadata": {}
  },
  {
   "cell_type": "code",
   "execution_count": 54,
   "metadata": {},
   "outputs": [
    {
     "output_type": "stream",
     "name": "stderr",
     "text": [
      "c:\\Users\\fialho\\Desktop\\py_extract_swagger\\.venv\\lib\\site-packages\\ipykernel\\ipkernel.py:287: DeprecationWarning: `should_run_async` will not call `transform_cell` automatically in the future. Please pass the result to `transformed_cell` argument and any exception that happen during thetransform in `preprocessing_exc_tuple` in IPython 7.17 and above.\n",
      "  and should_run_async(code)\n",
      "2020-12-13 20:11:17,606 : INFO : collecting all words and their counts\n",
      "2020-12-13 20:11:17,608 : INFO : PROGRESS: at sentence #0, processed 0 words and 0 word types\n",
      "2020-12-13 20:11:17,662 : INFO : collected 12222 word types from a corpus of 16078 words (unigram + bigrams) and 1000 sentences\n",
      "2020-12-13 20:11:17,663 : INFO : using 12222 counts as vocab in Phrases<0 vocab, min_count=20, threshold=10.0, max_vocab_size=40000000>\n"
     ]
    }
   ],
   "source": [
    "from gensim.models import Phrases\n",
    "\n",
    "# Add bigrams and trigrams to docs (only ones that appear 20 times or more).\n",
    "bigram = Phrases(docs, min_count=20)\n",
    "for idx in range(len(docs)):\n",
    "    for token in bigram[docs[idx]]:\n",
    "        if '_' in token:\n",
    "            # Token is a bigram, add to document.\n",
    "            docs[idx].append(token)"
   ]
  },
  {
   "cell_type": "code",
   "execution_count": 55,
   "metadata": {},
   "outputs": [
    {
     "output_type": "stream",
     "name": "stdout",
     "text": [
      "['title', 'simple', 'inventory', 'description', 'simple', 'simple_inventory']\n",
      "c:\\Users\\fialho\\Desktop\\py_extract_swagger\\.venv\\lib\\site-packages\\ipykernel\\ipkernel.py:287: DeprecationWarning: `should_run_async` will not call `transform_cell` automatically in the future. Please pass the result to `transformed_cell` argument and any exception that happen during thetransform in `preprocessing_exc_tuple` in IPython 7.17 and above.\n",
      "  and should_run_async(code)\n"
     ]
    }
   ],
   "source": [
    "print(docs[0])"
   ]
  },
  {
   "source": [
    "## 6. Removendo os tokens comuns e raros"
   ],
   "cell_type": "markdown",
   "metadata": {}
  },
  {
   "cell_type": "code",
   "execution_count": 56,
   "metadata": {},
   "outputs": [
    {
     "output_type": "stream",
     "name": "stderr",
     "text": [
      "c:\\Users\\fialho\\Desktop\\py_extract_swagger\\.venv\\lib\\site-packages\\ipykernel\\ipkernel.py:287: DeprecationWarning: `should_run_async` will not call `transform_cell` automatically in the future. Please pass the result to `transformed_cell` argument and any exception that happen during thetransform in `preprocessing_exc_tuple` in IPython 7.17 and above.\n",
      "  and should_run_async(code)\n",
      "2020-12-13 20:11:18,837 : INFO : adding document #0 to Dictionary(0 unique tokens: [])\n",
      "2020-12-13 20:11:18,913 : INFO : built Dictionary(3511 unique tokens: ['description', 'inventory', 'simple', 'simple_inventory', 'title']...) from 1000 documents (total 17386 corpus positions)\n",
      "2020-12-13 20:11:18,936 : INFO : discarding 3448 tokens: [('description', 1000), ('title', 1000), ('ach', 1), ('central', 1), ('da', 8), ('simulação', 1), ('sistema', 4), ('以免泄露敏感信息', 1), ('智掌柜产品提供的开放api', 1), ('智掌柜开放api', 1)]...\n",
      "2020-12-13 20:11:18,938 : INFO : keeping 63 tokens which were in no less than 20 and no more than 500 (=50.0%) documents\n",
      "2020-12-13 20:11:18,944 : INFO : resulting dictionary: Dictionary(63 unique tokens: ['inventory', 'simple', 'simple_inventory', 'endpoint', 'io']...)\n"
     ]
    }
   ],
   "source": [
    "# Remove rare and common tokens.\n",
    "from gensim.corpora import Dictionary\n",
    "\n",
    "# Create a dictionary representation of the documents.\n",
    "dictionary = Dictionary(docs)\n",
    "\n",
    "# Filter out words that occur less than 20 documents, or more than 50% of the documents.\n",
    "dictionary.filter_extremes(no_below=20, no_above=0.5)"
   ]
  },
  {
   "source": [
    "## 7. Vetorizando os documentos e computando a frequencia de cada palavra"
   ],
   "cell_type": "markdown",
   "metadata": {}
  },
  {
   "cell_type": "code",
   "execution_count": 57,
   "metadata": {},
   "outputs": [
    {
     "output_type": "stream",
     "name": "stderr",
     "text": [
      "c:\\Users\\fialho\\Desktop\\py_extract_swagger\\.venv\\lib\\site-packages\\ipykernel\\ipkernel.py:287: DeprecationWarning: `should_run_async` will not call `transform_cell` automatically in the future. Please pass the result to `transformed_cell` argument and any exception that happen during thetransform in `preprocessing_exc_tuple` in IPython 7.17 and above.\n  and should_run_async(code)\nC:\\Python38\\lib\\asyncio\\events.py:81: DeprecationWarning: `run_cell_async` will not call `transform_cell` automatically in the future. Please pass the result to `transformed_cell` argument and any exception that happen during thetransform in `preprocessing_exc_tuple` in IPython 7.17 and above.\n  self._context.run(self._callback, *self._args)\n"
     ]
    }
   ],
   "source": [
    "# Bag-of-words representation of the documents.\n",
    "corpus = [dictionary.doc2bow(doc) for doc in docs]"
   ]
  },
  {
   "cell_type": "code",
   "execution_count": 58,
   "metadata": {
    "tags": [
     "outputPrepend"
    ]
   },
   "outputs": [
    {
     "output_type": "stream",
     "name": "stdout",
     "text": [
      "23, 2), (24, 1), (25, 6), (26, 3), (29, 1), (30, 1), (31, 1)], [(4, 3), (10, 1), (11, 1), (13, 1), (18, 1), (19, 2), (20, 1), (21, 1), (22, 1), (23, 2), (24, 1), (25, 6), (26, 3), (29, 1), (30, 1), (31, 1)], [], [], [(45, 2)], [(5, 1), (6, 1), (8, 1), (34, 1), (35, 1), (45, 5), (47, 1), (52, 1), (59, 2)], [], [(7, 1), (32, 1), (45, 1), (48, 1), (53, 1), (56, 1), (59, 1)], [(39, 1), (56, 1)], [(45, 2), (56, 2)], [], [(45, 2)], [(48, 1), (54, 1)], [], [], [], [], [(3, 1), (45, 2)], [], [(45, 1), (47, 1), (57, 1)], [(45, 1), (47, 1)], [(45, 1), (47, 1), (57, 1)], [(45, 1), (47, 1), (53, 1), (61, 1)], [(45, 1), (47, 1), (53, 2)], [(45, 1), (47, 1), (55, 1)], [(45, 2)], [(45, 1), (47, 1), (56, 1)], [(1, 1), (5, 2), (13, 1), (40, 1), (41, 2), (52, 1), (53, 1), (56, 2), (57, 3)], [(45, 1), (47, 1)], [(45, 1), (47, 1)], [(8, 1), (45, 1), (56, 1)], [(45, 1), (47, 1)], [(45, 1), (47, 1), (56, 1)], [(45, 1), (47, 1), (53, 1), (56, 1)], [(45, 1), (47, 1)], [], [(3, 1), (37, 1)], [(47, 1)], [(8, 2), (32, 4), (41, 1)], [], [(40, 1)], [(1, 1)], [(25, 1), (46, 1)], [(27, 2)], [(1, 1), (16, 1), (21, 1), (52, 1), (56, 1)], [(37, 1)], [], [(37, 1)], [(0, 1), (1, 2), (2, 1)], [(46, 1)], [(27, 2)], [], [(12, 1), (24, 1), (32, 2), (33, 2), (39, 1), (43, 1), (49, 1), (50, 2), (51, 1), (52, 1)], [(47, 1), (59, 1)], [], [], [], [(16, 1), (42, 2), (44, 1)], [], [(1, 1), (15, 1), (47, 1)], [(28, 4), (47, 1), (56, 1)], [(13, 1)], [], [], [(0, 1), (1, 2), (2, 1)], [], [], [(0, 1), (1, 2), (2, 1)], [(32, 1), (41, 1)], [], [(53, 1)], [], [], [(46, 1)], [(58, 1)], [(56, 2)], [(58, 1)], [(51, 1)], [], [], [], [(4, 3), (5, 1), (10, 1), (13, 2), (15, 1), (16, 2), (18, 1), (19, 2), (20, 1), (21, 1), (22, 1), (23, 2), (24, 2), (25, 6), (26, 3), (27, 1)], [(56, 1), (58, 1)], [(4, 3), (10, 1), (11, 1), (13, 2), (18, 1), (19, 2), (20, 1), (21, 1), (22, 1), (23, 2), (24, 1), (25, 6), (26, 3)], [], [(1, 1), (5, 1), (6, 2), (8, 2), (14, 1), (15, 1), (32, 1), (34, 1), (38, 2), (41, 1), (44, 1), (48, 1), (55, 7), (60, 1), (62, 4)], [], [], [(4, 3), (10, 1), (11, 1), (13, 1), (18, 1), (19, 2), (20, 1), (21, 1), (22, 1), (23, 2), (24, 1), (25, 6), (26, 3), (29, 1), (30, 1), (31, 1)], [], [(9, 1)], [(24, 1), (34, 1)], [(32, 1), (45, 1)], [(46, 1)], [(46, 1)], [(46, 1)], [(4, 3), (10, 1), (11, 1), (13, 1), (18, 1), (19, 2), (20, 1), (21, 1), (22, 1), (23, 2), (24, 1), (25, 6), (26, 3), (29, 1), (30, 1), (31, 1)], [(40, 1), (56, 2)], [(56, 2)], [(13, 2), (14, 1), (45, 1), (56, 1)], [(40, 1), (56, 2)], [(58, 1)], [(56, 1), (58, 2)], [(56, 1), (58, 2)], [], [(1, 1), (60, 1)], [], [(1, 1), (39, 1)], [], [(35, 1), (56, 2)], [(7, 2), (17, 1), (51, 1), (56, 2)], [(4, 3), (10, 1), (11, 1), (13, 1), (18, 1), (19, 2), (20, 1), (21, 1), (22, 1), (23, 2), (24, 1), (25, 6), (26, 3), (29, 1), (30, 1), (31, 1)], [(32, 1), (33, 1), (43, 1), (49, 1), (50, 1), (51, 1), (52, 1)], [(3, 1), (6, 1), (7, 1), (17, 1), (38, 1)], [(3, 1)], [(6, 2), (7, 2), (10, 1)], [(6, 1), (28, 1)], [(12, 1), (24, 1), (32, 2), (33, 2), (39, 1), (43, 1), (49, 1), (50, 2), (51, 1), (52, 1)], [], [(3, 1), (5, 1), (42, 3), (44, 3), (54, 3)], [(47, 1)], [(1, 1)], [(5, 1), (6, 8), (7, 7), (8, 2), (9, 1), (12, 1), (14, 1), (34, 1), (37, 1), (42, 1), (45, 3), (46, 2), (53, 1), (55, 1), (56, 2), (61, 1), (62, 1)], [(4, 3), (10, 1), (11, 1), (13, 1), (18, 1), (19, 2), (20, 1), (21, 1), (22, 1), (23, 2), (24, 1), (25, 6), (26, 3), (29, 1), (30, 1), (31, 1)], [(7, 2), (46, 1), (51, 1), (53, 1)], [(59, 1)], [], [(12, 1), (24, 1), (33, 2), (39, 1), (43, 1), (49, 1), (50, 2), (51, 1), (52, 1)], [], [(9, 1), (56, 1)], [], [], [(53, 1)], [(25, 1), (38, 1), (47, 1), (52, 1)], [], [], [(1, 1), (7, 1), (28, 13), (32, 1), (33, 1), (43, 1), (44, 2), (45, 1), (58, 1)], [(47, 2)], [(4, 1), (6, 1), (7, 1), (25, 1), (26, 1), (34, 1), (37, 2), (51, 1), (54, 3), (56, 1)], [(3, 1), (7, 1), (16, 1), (34, 1), (35, 1), (42, 1), (44, 1), (46, 1), (47, 1), (58, 1)], [], [(8, 1), (40, 1), (48, 1)], [(13, 1), (51, 1), (58, 1)], [], [(9, 1), (32, 1)], [(0, 1), (1, 2), (2, 1)], [(56, 1)], [], [(58, 2)], [(17, 1)], [(58, 1)], [(0, 1), (1, 2), (2, 1)], [], [(56, 1)], [], [], [(4, 3), (10, 1), (11, 1), (13, 1), (18, 1), (19, 2), (20, 1), (21, 1), (22, 1), (23, 2), (24, 1), (25, 6), (26, 3), (29, 1), (30, 1), (31, 1)], [], [], [(3, 8), (6, 15), (7, 8), (8, 1), (10, 1), (14, 1), (16, 1), (33, 7), (34, 3), (36, 4), (39, 2), (44, 1), (47, 2), (52, 1), (53, 2), (56, 4)], [], [(46, 2)], [(40, 1)], [], [(28, 2), (38, 1)], [(3, 1)], [(0, 1), (1, 2), (2, 1)], [(3, 2), (5, 2), (10, 1), (35, 1), (47, 1), (53, 1)], [(12, 1), (46, 1)], [], [], [], [(12, 1), (24, 1), (32, 2), (33, 2), (39, 1), (43, 1), (49, 1), (50, 2), (51, 1), (52, 1)], [(46, 2)], [(37, 3), (51, 1)], [], [], [(56, 1)], [(56, 1)], [(7, 1)], [(24, 1), (51, 1)], [], [], [(45, 1), (52, 1), (56, 1)], [(4, 3), (10, 1), (11, 1), (13, 1), (18, 1), (19, 2), (20, 1), (21, 1), (22, 1), (23, 2), (24, 1), (25, 6), (26, 3), (29, 1), (30, 1), (31, 1)], [(4, 3), (10, 1), (11, 1), (13, 1), (18, 1), (19, 2), (20, 1), (21, 1), (22, 1), (23, 2), (24, 1), (25, 6), (26, 3), (29, 1), (30, 1), (31, 1)], [(45, 1)], [(28, 3)], [(0, 1), (1, 2), (2, 1)], [(56, 2)], [], [], [(56, 1)], [(9, 1)], [], [(14, 1), (41, 1), (56, 3)], [(17, 1), (46, 1)], [], [(47, 1)], [], [(8, 1), (55, 1)], [(3, 1), (5, 1)], [], [(4, 3), (10, 1), (11, 1), (13, 2), (18, 1), (19, 2), (20, 1), (21, 1), (22, 1), (23, 2), (24, 1), (25, 6), (26, 3)], [], [(4, 3), (10, 1), (11, 1), (13, 1), (18, 1), (19, 2), (20, 1), (21, 1), (22, 1), (23, 2), (24, 1), (25, 6), (26, 3), (29, 1), (30, 1), (31, 1)], [(3, 1), (14, 2), (37, 2), (49, 2)], [], [(36, 1)], [(1, 1), (5, 2), (6, 2), (7, 4), (9, 3), (10, 2), (14, 2), (15, 4), (16, 4), (21, 2), (24, 2), (27, 2), (37, 6), (49, 2), (55, 1), (60, 2), (62, 2)], [(12, 1), (13, 1), (14, 1)], [(3, 1)], [(55, 1)], [(25, 1), (38, 1), (47, 1), (52, 1)], [(0, 1), (1, 2), (2, 1)], [(3, 1), (56, 1)], [], [(9, 2), (17, 2), (52, 1), (56, 1)], [(9, 1), (42, 2)], [(28, 1)], [(37, 1)], [], [(32, 2), (45, 2), (47, 1), (56, 1)], [(47, 1), (51, 1)], [(47, 1), (51, 1)], [(47, 1), (51, 1)], [(47, 1), (51, 1)], [], [], [(4, 3), (10, 1), (11, 1), (13, 1), (18, 1), (19, 2), (20, 1), (21, 1), (22, 1), (23, 1), (24, 1), (25, 5), (26, 3), (29, 1), (30, 1), (31, 1)], [(4, 3), (10, 1), (11, 1), (13, 1), (18, 1), (19, 2), (20, 1), (21, 1), (22, 1), (23, 2), (24, 1), (25, 6), (26, 3), (29, 1), (30, 1), (31, 1)], [(0, 1), (13, 2)], [(52, 1), (62, 1)], [(0, 1), (1, 2), (2, 1)], [(28, 1), (56, 1)], [], [], [], [(56, 3)], [(0, 1), (1, 2)], [(0, 2)], [(25, 1)], [(37, 1)], [(24, 1), (25, 2)], [(6, 3), (40, 1), (44, 1), (58, 1)], [(4, 3), (18, 1), (19, 2), (20, 1), (21, 1), (22, 1), (25, 4), (26, 3)], [], [], [(57, 1)], [], [(1, 1)], [(0, 1), (1, 2), (2, 1)], [], [(12, 1), (27, 1)], [], [], [(12, 1), (24, 1), (32, 2), (33, 2), (39, 1), (43, 1), (49, 1), (50, 2), (51, 1), (52, 1)], [(56, 1)], [(35, 1), (45, 1), (46, 1)], [(5, 1), (6, 1), (9, 2), (32, 1)], [], [(58, 1)], [(58, 2)], [], [(56, 1)], [(4, 3), (10, 1), (11, 1), (13, 1), (18, 1), (19, 2), (20, 1), (21, 1), (22, 1), (23, 2), (24, 1), (25, 6), (26, 3), (29, 1), (30, 1), (31, 1)], [(12, 1), (24, 1), (33, 2), (39, 1), (43, 1), (49, 1), (50, 2), (51, 1), (52, 1)], [(14, 1), (34, 2), (61, 2)], [(14, 1), (48, 1), (61, 3)], [(14, 1)], [(14, 1), (34, 3), (61, 3)], [(14, 1), (61, 3)], [(14, 1), (48, 1)], [(16, 1), (34, 1), (40, 1), (44, 1), (56, 1)], [], [], [(39, 1)], [(1, 1)], [], [], [], [(3, 1), (5, 1)], [], [(25, 1)], [], [(8, 1), (35, 1), (56, 2)], [(37, 1)], [(1, 2)], [(0, 1), (1, 2), (2, 1)], [(4, 1), (9, 1), (14, 2), (27, 1), (54, 1), (55, 1)], [(55, 1)], [(5, 1), (9, 1), (35, 1), (37, 1), (44, 1), (52, 1), (55, 1), (58, 1)], [], [(3, 1), (6, 2), (7, 2), (28, 1), (44, 1)], [(28, 1)], [(12, 1), (24, 1), (33, 2), (39, 1), (43, 1), (49, 1), (50, 2), (51, 1), (52, 1)], [(0, 1), (1, 2), (2, 1)], [(25, 1)], [], [(4, 3), (10, 1), (11, 1), (13, 1), (18, 1), (19, 2), (20, 1), (21, 1), (22, 1), (23, 2), (24, 1), (25, 6), (26, 3), (29, 1), (30, 1), (31, 1)], [(32, 1)], [(13, 2), (55, 1), (57, 1), (58, 1)], [], [(0, 1), (1, 2), (2, 1)], [(0, 1), (1, 2), (2, 1)], [(55, 2), (56, 2)], [(0, 1), (1, 2), (2, 1)], [(55, 1)], [(0, 1), (1, 2), (2, 1)], [(46, 1), (55, 1), (56, 1)], [(28, 1)], [], [(58, 1)], [(46, 1)], [(4, 3), (10, 1), (11, 1), (13, 1), (18, 1), (19, 2), (20, 1), (21, 1), (22, 1), (23, 2), (24, 1), (25, 6), (26, 3), (29, 1), (30, 1), (31, 1)], [], [(4, 3), (10, 1), (11, 1), (13, 2), (18, 1), (19, 2), (20, 1), (21, 1), (22, 1), (23, 2), (24, 1), (25, 6), (26, 3)], [(1, 1)], [(0, 1), (1, 2), (2, 1)], [(4, 3), (10, 1), (11, 1), (13, 1), (18, 1), (19, 2), (20, 1), (21, 1), (22, 1), (23, 2), (24, 1), (25, 6), (26, 3), (29, 1), (30, 1), (31, 1)], [(55, 2)], [(4, 3), (10, 1), (11, 1), (13, 1), (18, 1), (19, 2), (20, 1), (21, 1), (22, 1), (23, 2), (24, 1), (25, 6), (26, 3), (29, 1), (30, 1), (31, 1)], [(55, 2)], [(13, 1), (47, 1)], [(0, 1), (1, 2), (2, 1)], [(13, 1), (55, 2)], [(4, 3), (10, 1), (11, 1), (13, 1), (18, 1), (19, 2), (20, 1), (21, 1), (22, 1), (23, 2), (24, 1), (25, 6), (26, 3), (29, 1), (30, 1), (31, 1)], [(0, 1), (1, 2), (2, 1)], [(0, 1), (1, 2), (2, 1)], [(52, 1), (55, 2), (56, 1)], [(56, 1)], [(0, 1), (1, 2), (2, 1)], [], [(1, 2), (55, 1)], [], [(55, 3), (56, 1)], [(28, 4)], [(56, 1)], [(28, 3)], [(0, 1), (1, 2), (2, 1)], [(28, 1), (55, 1)], [(28, 1), (55, 1)], [], [], [(8, 1), (37, 2), (42, 5)], [(35, 1), (55, 1)], [(35, 1), (55, 1)], [(0, 1), (1, 2), (2, 1)], [(8, 2), (25, 1), (58, 1)], [(35, 1)], [(35, 1)], [(35, 1), (40, 1)], [(35, 1), (40, 1)], [(5, 1)], [(5, 1)], [(6, 1), (28, 10)], [(9, 1), (54, 1)], [(8, 1), (37, 1), (45, 1), (52, 1), (56, 5), (61, 2)], [(4, 3), (10, 1), (11, 1), (13, 1), (18, 1), (19, 2), (20, 1), (21, 1), (22, 1), (23, 2), (24, 1), (25, 6), (26, 3), (29, 1), (30, 1), (31, 1)], [], [], [(0, 1), (1, 2), (2, 1)], [], [(4, 3), (10, 1), (11, 1), (13, 1), (18, 1), (19, 2), (20, 1), (21, 1), (22, 1), (23, 2), (24, 1), (25, 6), (26, 3), (29, 1), (30, 1), (31, 1)], [(0, 1), (1, 2), (2, 1)], [(55, 2)], [(55, 1)], [(55, 2), (56, 1)], [(55, 1), (56, 1), (58, 1)], [(55, 2)], [(4, 3), (10, 1), (11, 1), (13, 1), (18, 1), (19, 2), (20, 1), (21, 1), (22, 1), (23, 2), (24, 1), (25, 6), (26, 3), (29, 1), (30, 1), (31, 1)], [(24, 1), (55, 2)], [(47, 1)], [(55, 2), (56, 1)], [(37, 1), (55, 1)], [(12, 1), (24, 1), (33, 2), (39, 1), (43, 1), (49, 1), (50, 2), (51, 1), (52, 1)], [(55, 1)], [(5, 1), (55, 3), (56, 2)], [(0, 1), (1, 2), (2, 1)], [(4, 3), (10, 1), (11, 1), (13, 1), (18, 1), (19, 2), (20, 1), (21, 1), (22, 1), (23, 2), (24, 1), (25, 6), (26, 3), (29, 1), (30, 1), (31, 1)], [(53, 1)], [(0, 1), (1, 2), (2, 1)], [(55, 2)], [(4, 3), (10, 1), (11, 1), (13, 1), (18, 1), (19, 2), (20, 1), (21, 1), (22, 1), (23, 2), (24, 1), (25, 6), (26, 3), (29, 1), (30, 1), (31, 1)], [(4, 3), (10, 1), (11, 1), (13, 1), (18, 1), (19, 2), (20, 1), (21, 1), (22, 1), (23, 2), (24, 1), (25, 6), (26, 3), (29, 1), (30, 1), (31, 1)], [(55, 2)], [(4, 3), (10, 1), (11, 1), (13, 1), (18, 1), (19, 2), (20, 1), (21, 1), (22, 1), (23, 2), (24, 1), (25, 6), (26, 3), (29, 1), (30, 1), (31, 1)], [(0, 1), (1, 2), (2, 1)], [(0, 1), (1, 2), (2, 1)], [(12, 1), (24, 1), (32, 2), (33, 2), (39, 1), (43, 1), (49, 1), (50, 2), (51, 1), (52, 1)], [(56, 1), (61, 2)], [(13, 1), (23, 1), (24, 1), (25, 1), (55, 2), (56, 1)], [(0, 1), (1, 2), (2, 1)], [(0, 1), (1, 2), (2, 1)], [(0, 1), (1, 2), (2, 1)], [], [(4, 3), (10, 1), (11, 1), (13, 2), (18, 1), (19, 2), (20, 1), (21, 1), (22, 1), (23, 2), (24, 1), (25, 6), (26, 3)], [(34, 1), (55, 1)], [(5, 3), (14, 1), (32, 1), (41, 1), (42, 1), (44, 2), (46, 5), (48, 1), (55, 5)], [(4, 3), (10, 1), (11, 1), (13, 2), (18, 1), (19, 2), (20, 1), (21, 1), (22, 1), (23, 2), (24, 1), (25, 6), (26, 3)], [], [(12, 1), (62, 1)], [(8, 1), (36, 1), (40, 1)], [(6, 1), (7, 1), (47, 1), (55, 1)], [(4, 3), (10, 1), (11, 1), (13, 2), (18, 1), (19, 2), (20, 1), (21, 1), (22, 1), (23, 2), (24, 1), (25, 6), (26, 3)], [], [(12, 1), (24, 1), (32, 2), (33, 2), (39, 1), (43, 1), (49, 1), (50, 2), (51, 1), (52, 1)], [], [(4, 3), (10, 1), (11, 1), (13, 1), (18, 1), (19, 2), (20, 1), (21, 1), (22, 1), (23, 2), (24, 1), (25, 6), (26, 3), (29, 1), (30, 1), (31, 1)], [], [(7, 1), (17, 2), (28, 3)], [], [(14, 1), (32, 1)], [(6, 1)], [], [(5, 1), (7, 1), (32, 1), (55, 1), (56, 1)], [(4, 2), (5, 1), (6, 2), (7, 4), (8, 1), (9, 1), (34, 3), (44, 1), (52, 1), (60, 1), (61, 2)], [(5, 2), (25, 1), (32, 1), (47, 1)], [(28, 3), (35, 2), (55, 1)], [], [(0, 1), (1, 2), (2, 1)], [(1, 1)], [], [(1, 1)], [(13, 1), (17, 1), (24, 1), (25, 1), (56, 1)], [], [(32, 1), (57, 1)], [], [(0, 1), (1, 2), (2, 1)], [(8, 1)], [], [(59, 1)], [(42, 2), (45, 1), (54, 2), (56, 1)], [(42, 1), (45, 1), (56, 1)], [], [(56, 1)], [(28, 1)], [], [(35, 1), (51, 2), (53, 1), (62, 1)], [(17, 1)], [(3, 1), (28, 1)], [(6, 1)], [], [], [(46, 1)], [(21, 1)], [], [], [(0, 1), (1, 2), (2, 1)], [], [(55, 1), (56, 2)], [], [(0, 1), (1, 2), (2, 1)], [], [(12, 1), (24, 1), (32, 2), (33, 2), (39, 1), (43, 1), (49, 1), (50, 2), (51, 1), (52, 1)], [(46, 1)], [], [(3, 1), (5, 1), (6, 1), (7, 1), (35, 1), (48, 1), (60, 1)], [], [(6, 1), (58, 1)], [], [], [(5, 1), (25, 1), (44, 1), (48, 1), (55, 1), (56, 1)], [(4, 3), (10, 1), (11, 1), (13, 1), (18, 1), (19, 2), (20, 1), (21, 1), (22, 1), (23, 2), (24, 1), (25, 6), (26, 3), (29, 1), (30, 1), (31, 1)], [(47, 1)], [(47, 1)], [], [], [(5, 2), (14, 1), (16, 2), (27, 2), (32, 3), (34, 1), (40, 3), (55, 4), (58, 1)], [(4, 3), (10, 1), (11, 1), (13, 2), (18, 1), (19, 2), (20, 1), (21, 1), (22, 1), (23, 2), (24, 1), (25, 6), (26, 3)], [], [(0, 1), (1, 2), (2, 1)], [(14, 1), (24, 1)], [(56, 1)], [(47, 1)], [], [], [], [(56, 1)], [(8, 1), (56, 1)], [(46, 1)], [(4, 3), (10, 1), (11, 1), (13, 1), (18, 1), (19, 2), (20, 1), (21, 1), (22, 1), (23, 2), (24, 1), (25, 6), (26, 3), (29, 1), (30, 1), (31, 1)], [(4, 3), (10, 1), (11, 1), (13, 1), (18, 1), (19, 2), (20, 1), (21, 1), (22, 1), (23, 2), (24, 1), (25, 6), (26, 3), (29, 1), (30, 1), (31, 1)], [(46, 1)], [(46, 1)], [(46, 1)], [], [(4, 3), (10, 1), (11, 1), (13, 1), (18, 1), (19, 2), (20, 1), (21, 1), (22, 1), (23, 2), (24, 1), (25, 6), (26, 3), (29, 1), (30, 1), (31, 1)], [(58, 1)], [], [(28, 5), (45, 2)], [(14, 1), (32, 1)], [(40, 2)], [(4, 3), (10, 1), (11, 1), (13, 1), (18, 1), (19, 2), (20, 1), (21, 1), (22, 1), (23, 2), (24, 1), (25, 6), (26, 3), (29, 1), (30, 1), (31, 1)], [(0, 1), (1, 2), (2, 1)], [], [], [(0, 1), (1, 2), (2, 1)], [(58, 1)], [], [(4, 3), (10, 1), (11, 1), (13, 1), (18, 1), (19, 2), (20, 1), (21, 1), (22, 1), (23, 2), (24, 1), (25, 6), (26, 3), (29, 1), (30, 1), (31, 1)], [(13, 1), (58, 1)], [], [(56, 1)], [(52, 1)], [(47, 1)], [], [(28, 2), (58, 2)], [], [(4, 3), (10, 1), (11, 1), (13, 1), (18, 1), (19, 2), (20, 1), (21, 1), (22, 1), (23, 2), (24, 1), (25, 6), (26, 3), (29, 1), (30, 1), (31, 1)], [], [(1, 1)], [(14, 1), (32, 1), (37, 1)], [(12, 1), (24, 1), (33, 2), (35, 2), (36, 2), (39, 1), (43, 1), (49, 1), (50, 2), (51, 1), (52, 1)], [(0, 1), (1, 2), (2, 1)], [(13, 1)], [(4, 3), (10, 1), (11, 1), (13, 1), (18, 1), (19, 2), (20, 1), (21, 1), (22, 1), (23, 2), (24, 1), (25, 6), (26, 3), (29, 1), (30, 1), (31, 1)], [(0, 1), (1, 2), (2, 1)], [(0, 1), (1, 2), (2, 1)], [(0, 1), (1, 2), (2, 1)], [(56, 2)], [(3, 2), (8, 1), (13, 1), (14, 2), (34, 5), (37, 3), (40, 1), (41, 1), (46, 1), (48, 1)], [(0, 1), (42, 3), (45, 1), (48, 2), (54, 1)], [], [(56, 1)], [], [(25, 1)], [], [(0, 1), (1, 2), (2, 1)], [(4, 3), (5, 1), (10, 1), (13, 2), (15, 1), (16, 2), (18, 1), (19, 2), (20, 1), (21, 1), (22, 1), (23, 2), (24, 2), (25, 6), (26, 3), (27, 1)], [], [], [], [(12, 1), (14, 2), (16, 1), (33, 1), (34, 1), (35, 1), (43, 2), (52, 1), (55, 3), (56, 2), (58, 1)], [], [(7, 6), (40, 6), (44, 4), (55, 2), (59, 9)], [(4, 3), (10, 1), (11, 1), (13, 1), (18, 1), (19, 2), (20, 1), (21, 1), (22, 1), (23, 2), (24, 1), (25, 6), (26, 3), (29, 1), (30, 1), (31, 1)], [(12, 1), (24, 1), (33, 2), (39, 1), (43, 1), (49, 1), (50, 2), (51, 1), (52, 1)], [(4, 3), (10, 1), (11, 1), (13, 1), (18, 1), (19, 2), (20, 1), (21, 1), (22, 1), (23, 2), (24, 1), (25, 6), (26, 3), (29, 1), (30, 1), (31, 1)], [], [], [], [(45, 2)], [], [(27, 3)], [(46, 1), (56, 2)], [(0, 1), (1, 2), (2, 1)], [(17, 1)], [(45, 1)], [], [], [], [(56, 1)], [(15, 1), (56, 1)], [], [], [(24, 1)], [], [(4, 3), (10, 1), (11, 1), (13, 1), (18, 1), (19, 2), (20, 1), (21, 1), (22, 1), (23, 1), (24, 1), (25, 6), (26, 3), (29, 1), (30, 1), (31, 1)], [(25, 2), (27, 1)], [], [(4, 3), (10, 1), (11, 1), (13, 1), (18, 1), (19, 2), (20, 1), (21, 1), (22, 1), (23, 2), (24, 1), (25, 6), (26, 3), (29, 1), (30, 1), (31, 1)], [(4, 3), (10, 1), (11, 1), (13, 1), (18, 1), (19, 2), (20, 1), (21, 1), (22, 1), (23, 2), (24, 1), (25, 6), (26, 3), (29, 1), (30, 1), (31, 1)], [], [], [(61, 2)], [(47, 1)], [(1, 1)], [(4, 3), (10, 1), (11, 1), (13, 1), (18, 1), (19, 2), (20, 1), (21, 1), (22, 1), (23, 2), (24, 1), (25, 6), (26, 3), (29, 1), (30, 1), (31, 1)], [(23, 1), (25, 1)], [], [(56, 2)], [], [(28, 2)], [(8, 3), (10, 1), (37, 1)], [(1, 1), (39, 1)], [(12, 1)], [(13, 1)], [], [(28, 2)], [(0, 1), (1, 2), (2, 1)], [(58, 1)], [(58, 1)], [], [(32, 1), (45, 2)], [], [(8, 1)], [(62, 1)], [], [(27, 1), (62, 2)], [(13, 1), (47, 1)], [(5, 1), (7, 1), (32, 1), (54, 1), (55, 1), (56, 1), (62, 1)], [(54, 2), (62, 2)], [(56, 1), (62, 2)], [(62, 1)], [(27, 1)], [], [(24, 2)], [(4, 3), (10, 1), (11, 1), (13, 1), (18, 1), (19, 2), (20, 1), (21, 1), (22, 1), (23, 2), (24, 1), (25, 6), (26, 3), (29, 1), (30, 1), (31, 1)], [(46, 1)], [(8, 1), (35, 1), (37, 1), (52, 1), (55, 1)], [], [(0, 1), (1, 2), (2, 1)], [(9, 1)], [(6, 1), (7, 5), (8, 3), (9, 1), (21, 1), (28, 18), (32, 1), (36, 1), (37, 2), (54, 2), (57, 1), (58, 4)], [(37, 1), (40, 1)], [(3, 1)], [], [(1, 2)], [], [], [], [], [(0, 1), (1, 2), (2, 1)], [(5, 2), (7, 2), (13, 1), (15, 1), (16, 3), (25, 3), (34, 1), (36, 1), (37, 1), (39, 2), (56, 1)], [], [(32, 1), (40, 1), (53, 2), (57, 1)], [(56, 2)], [(21, 1)], [], [], [], [], [(4, 3), (10, 1), (11, 1), (13, 1), (18, 1), (19, 2), (20, 1), (21, 1), (22, 1), (23, 2), (24, 1), (25, 6), (26, 3), (29, 1), (30, 1), (31, 1)], [(47, 1), (56, 1)], [], [(36, 2), (53, 1)], [], [(47, 1)], [(6, 2), (7, 2), (54, 2)], [(32, 1)], [], [], [(53, 1)], [], [], [], [], [], [(51, 1)], [], [], [(8, 2), (14, 1), (54, 1), (56, 5)], [(47, 1)], [(47, 1)], [(56, 1)], [], [(4, 3), (10, 1), (11, 1), (13, 1), (18, 1), (19, 2), (20, 1), (21, 1), (22, 1), (23, 2), (24, 1), (25, 6), (26, 3), (29, 1), (30, 1), (31, 1)], [(58, 1)], [(12, 1), (24, 1), (32, 2), (33, 2), (39, 1), (43, 1), (49, 1), (50, 2), (51, 1), (52, 1)], [(1, 1)], [(58, 1)], [(0, 1), (1, 2), (2, 1)], [], [(1, 1)], [], [(4, 3), (10, 1), (11, 1), (13, 1), (18, 1), (19, 2), (20, 1), (21, 1), (22, 1), (23, 2), (24, 1), (25, 6), (26, 3), (29, 1), (30, 1), (31, 1)], [(28, 3)], [], [(0, 1), (1, 2), (2, 1)], [(12, 1), (27, 1), (38, 1)], [(0, 1), (1, 2), (2, 1)], [], [(0, 1), (1, 2), (2, 1)], [], [(7, 1), (14, 1), (40, 3), (41, 1), (56, 2)], [(28, 2)], [(13, 1), (24, 1)], [(37, 1), (58, 1)], [(58, 1)], [(8, 2), (51, 1), (56, 3)], [(1, 1)], [(44, 1), (56, 1)], [(28, 1), (36, 1), (44, 1)], [(37, 1), (44, 1)], [(10, 1), (44, 2)], [(37, 1), (44, 2), (53, 1)], [(0, 1), (1, 2), (2, 1)], [], [], [], [(0, 1), (1, 2), (2, 1)], [], [(6, 2), (7, 2)], [(32, 1), (47, 1)], [(0, 1), (1, 2), (2, 1)], [(1, 1)], [(1, 1), (46, 1), (58, 2)], [(17, 1), (45, 2)], [(46, 1)], [], [(25, 1)], [(4, 3), (10, 1), (11, 1), (13, 1), (18, 1), (19, 2), (20, 1), (21, 1), (22, 1), (23, 2), (24, 1), (25, 6), (26, 3), (29, 1), (30, 1), (31, 1)], [(0, 1), (1, 2), (2, 1)], [], [(12, 1), (47, 1)]]\n",
      "c:\\Users\\fialho\\Desktop\\py_extract_swagger\\.venv\\lib\\site-packages\\ipykernel\\ipkernel.py:287: DeprecationWarning: `should_run_async` will not call `transform_cell` automatically in the future. Please pass the result to `transformed_cell` argument and any exception that happen during thetransform in `preprocessing_exc_tuple` in IPython 7.17 and above.\n",
      "  and should_run_async(code)\n"
     ]
    }
   ],
   "source": [
    "print(corpus)"
   ]
  },
  {
   "source": [
    "## 8. Verificando quantos tokens foram gerados"
   ],
   "cell_type": "markdown",
   "metadata": {}
  },
  {
   "cell_type": "code",
   "execution_count": 59,
   "metadata": {},
   "outputs": [
    {
     "output_type": "stream",
     "name": "stdout",
     "text": [
      "Number of unique tokens: 63\n",
      "Number of documents: 1000\n",
      "c:\\Users\\fialho\\Desktop\\py_extract_swagger\\.venv\\lib\\site-packages\\ipykernel\\ipkernel.py:287: DeprecationWarning: `should_run_async` will not call `transform_cell` automatically in the future. Please pass the result to `transformed_cell` argument and any exception that happen during thetransform in `preprocessing_exc_tuple` in IPython 7.17 and above.\n",
      "  and should_run_async(code)\n"
     ]
    }
   ],
   "source": [
    "print('Number of unique tokens: %d' % len(dictionary))\n",
    "print('Number of documents: %d' % len(corpus))"
   ]
  },
  {
   "source": [
    "## 9. Habilitando os Log"
   ],
   "cell_type": "markdown",
   "metadata": {}
  },
  {
   "cell_type": "code",
   "execution_count": 60,
   "metadata": {},
   "outputs": [
    {
     "output_type": "stream",
     "name": "stderr",
     "text": [
      "c:\\Users\\fialho\\Desktop\\py_extract_swagger\\.venv\\lib\\site-packages\\ipykernel\\ipkernel.py:287: DeprecationWarning: `should_run_async` will not call `transform_cell` automatically in the future. Please pass the result to `transformed_cell` argument and any exception that happen during thetransform in `preprocessing_exc_tuple` in IPython 7.17 and above.\n  and should_run_async(code)\n"
     ]
    }
   ],
   "source": [
    "import logging\n",
    "logging.basicConfig(format='%(asctime)s : %(levelname)s : %(message)s', level=logging.DEBUG)"
   ]
  },
  {
   "source": [
    "# LDA Treining Model\n",
    "\n",
    "## 10 - LDA"
   ],
   "cell_type": "markdown",
   "metadata": {}
  },
  {
   "cell_type": "code",
   "execution_count": 61,
   "metadata": {
    "tags": [
     "outputPrepend"
    ]
   },
   "outputs": [
    {
     "output_type": "stream",
     "name": "stderr",
     "text": [
      "ocument #1000/1000\n",
      "2020-12-13 20:11:29,087 : INFO : optimized alpha [0.08804015, 0.08973661, 0.07762326, 0.09650665, 0.09440061, 0.06744907, 0.06966846, 0.06927856, 0.081678264, 0.08012235]\n",
      "2020-12-13 20:11:29,090 : INFO : topic #5 (0.067): 0.172*\"key\" + 0.164*\"token\" + 0.095*\"authorization\" + 0.083*\"use\" + 0.045*\"http\" + 0.044*\"data\" + 0.030*\"test\" + 0.028*\"swagger\" + 0.028*\"create\" + 0.027*\"request\"\n",
      "2020-12-13 20:11:29,093 : INFO : topic #7 (0.069): 0.738*\"de\" + 0.043*\"rest\" + 0.034*\"http\" + 0.020*\"com\" + 0.016*\"information\" + 0.015*\"token\" + 0.013*\"simple\" + 0.013*\"application\" + 0.011*\"status\" + 0.009*\"web\"\n",
      "2020-12-13 20:11:29,096 : INFO : topic #1 (0.090): 0.186*\"service\" + 0.099*\"oauth\" + 0.091*\"specification\" + 0.089*\"flow\" + 0.086*\"project\" + 0.077*\"application\" + 0.062*\"using\" + 0.061*\"sample\" + 0.052*\"example\" + 0.051*\"security\"\n",
      "2020-12-13 20:11:29,104 : INFO : topic #4 (0.094): 0.496*\"simple\" + 0.223*\"inventory\" + 0.210*\"simple_inventory\" + 0.047*\"document\" + 0.004*\"web\" + 0.002*\"detail\" + 0.001*\"documentation\" + 0.001*\"data\" + 0.001*\"new\" + 0.001*\"http\"\n",
      "2020-12-13 20:11:29,108 : INFO : topic #3 (0.097): 0.227*\"swagger\" + 0.115*\"io\" + 0.110*\"swagger_io\" + 0.073*\"irc\" + 0.073*\"petstore\" + 0.046*\"server\" + 0.042*\"sample\" + 0.038*\"net\" + 0.037*\"find\" + 0.037*\"net_swagger\"\n",
      "2020-12-13 20:11:29,110 : INFO : topic diff=0.323164, rho=0.333333\n",
      "2020-12-13 20:11:29,545 : INFO : -3.097 per-word bound, 8.6 perplexity estimate based on a held-out corpus of 1000 documents with 5619 words\n",
      "2020-12-13 20:11:29,547 : INFO : PROGRESS: pass 8, at document #1000/1000\n",
      "2020-12-13 20:11:29,768 : INFO : optimized alpha [0.08791657, 0.08928933, 0.0770267, 0.09583441, 0.09433497, 0.065938346, 0.0684305, 0.06750054, 0.081149675, 0.07936553]\n",
      "2020-12-13 20:11:29,771 : INFO : topic #5 (0.066): 0.184*\"key\" + 0.166*\"token\" + 0.096*\"authorization\" + 0.086*\"use\" + 0.042*\"data\" + 0.041*\"http\" + 0.034*\"test\" + 0.028*\"request\" + 0.028*\"access\" + 0.028*\"create\"\n",
      "2020-12-13 20:11:29,773 : INFO : topic #7 (0.068): 0.750*\"de\" + 0.042*\"rest\" + 0.034*\"http\" + 0.018*\"com\" + 0.016*\"information\" + 0.015*\"token\" + 0.013*\"application\" + 0.012*\"simple\" + 0.011*\"status\" + 0.009*\"web\"\n",
      "2020-12-13 20:11:29,776 : INFO : topic #1 (0.089): 0.181*\"service\" + 0.101*\"oauth\" + 0.093*\"specification\" + 0.090*\"flow\" + 0.089*\"project\" + 0.079*\"application\" + 0.067*\"sample\" + 0.063*\"using\" + 0.053*\"example\" + 0.052*\"security\"\n",
      "2020-12-13 20:11:29,781 : INFO : topic #4 (0.094): 0.498*\"simple\" + 0.224*\"inventory\" + 0.211*\"simple_inventory\" + 0.047*\"document\" + 0.003*\"web\" + 0.001*\"detail\" + 0.001*\"documentation\" + 0.001*\"data\" + 0.000*\"new\" + 0.000*\"http\"\n",
      "2020-12-13 20:11:29,788 : INFO : topic #3 (0.096): 0.228*\"swagger\" + 0.115*\"io\" + 0.111*\"swagger_io\" + 0.074*\"irc\" + 0.073*\"petstore\" + 0.045*\"server\" + 0.042*\"sample\" + 0.038*\"net\" + 0.037*\"find\" + 0.037*\"net_swagger\"\n",
      "2020-12-13 20:11:29,792 : INFO : topic diff=0.287880, rho=0.316228\n",
      "2020-12-13 20:11:30,135 : INFO : -3.090 per-word bound, 8.5 perplexity estimate based on a held-out corpus of 1000 documents with 5619 words\n",
      "2020-12-13 20:11:30,137 : INFO : PROGRESS: pass 9, at document #1000/1000\n",
      "2020-12-13 20:11:30,356 : INFO : optimized alpha [0.08780719, 0.08885754, 0.07644439, 0.095199496, 0.09425137, 0.0645894, 0.06730223, 0.06589649, 0.08067824, 0.07866698]\n",
      "2020-12-13 20:11:30,358 : INFO : topic #5 (0.065): 0.192*\"key\" + 0.167*\"token\" + 0.097*\"authorization\" + 0.089*\"use\" + 0.040*\"data\" + 0.037*\"http\" + 0.037*\"test\" + 0.031*\"access\" + 0.029*\"request\" + 0.028*\"create\"\n",
      "2020-12-13 20:11:30,359 : INFO : topic #7 (0.066): 0.758*\"de\" + 0.041*\"rest\" + 0.034*\"http\" + 0.017*\"com\" + 0.016*\"information\" + 0.015*\"token\" + 0.013*\"application\" + 0.011*\"status\" + 0.010*\"simple\" + 0.009*\"web\"\n",
      "2020-12-13 20:11:30,362 : INFO : topic #1 (0.089): 0.177*\"service\" + 0.103*\"oauth\" + 0.094*\"specification\" + 0.092*\"flow\" + 0.090*\"project\" + 0.079*\"application\" + 0.070*\"sample\" + 0.064*\"using\" + 0.054*\"example\" + 0.053*\"security\"\n",
      "2020-12-13 20:11:30,371 : INFO : topic #4 (0.094): 0.500*\"simple\" + 0.224*\"inventory\" + 0.211*\"simple_inventory\" + 0.047*\"document\" + 0.002*\"web\" + 0.001*\"detail\" + 0.001*\"documentation\" + 0.000*\"data\" + 0.000*\"new\" + 0.000*\"http\"\n",
      "2020-12-13 20:11:30,375 : INFO : topic #3 (0.095): 0.228*\"swagger\" + 0.116*\"io\" + 0.111*\"swagger_io\" + 0.074*\"irc\" + 0.073*\"petstore\" + 0.045*\"server\" + 0.041*\"sample\" + 0.038*\"net\" + 0.038*\"find\" + 0.037*\"net_swagger\"\n",
      "2020-12-13 20:11:30,378 : INFO : topic diff=0.252166, rho=0.301511\n",
      "2020-12-13 20:11:30,876 : INFO : -3.084 per-word bound, 8.5 perplexity estimate based on a held-out corpus of 1000 documents with 5619 words\n",
      "2020-12-13 20:11:30,878 : INFO : PROGRESS: pass 10, at document #1000/1000\n",
      "2020-12-13 20:11:31,152 : INFO : optimized alpha [0.087711245, 0.08839042, 0.07594459, 0.09459767, 0.09415308, 0.06335683, 0.06626633, 0.064437725, 0.0802063, 0.07806219]\n",
      "2020-12-13 20:11:31,154 : INFO : topic #5 (0.063): 0.197*\"key\" + 0.167*\"token\" + 0.097*\"authorization\" + 0.092*\"use\" + 0.040*\"test\" + 0.038*\"data\" + 0.035*\"http\" + 0.033*\"access\" + 0.030*\"request\" + 0.027*\"create\"\n",
      "2020-12-13 20:11:31,156 : INFO : topic #7 (0.064): 0.765*\"de\" + 0.040*\"rest\" + 0.034*\"http\" + 0.015*\"com\" + 0.015*\"information\" + 0.015*\"token\" + 0.014*\"application\" + 0.011*\"status\" + 0.010*\"simple\" + 0.009*\"web\"\n",
      "2020-12-13 20:11:31,160 : INFO : topic #1 (0.088): 0.174*\"service\" + 0.104*\"oauth\" + 0.095*\"specification\" + 0.093*\"flow\" + 0.092*\"project\" + 0.078*\"application\" + 0.073*\"sample\" + 0.064*\"using\" + 0.054*\"example\" + 0.053*\"security\"\n",
      "2020-12-13 20:11:31,169 : INFO : topic #4 (0.094): 0.501*\"simple\" + 0.224*\"inventory\" + 0.211*\"simple_inventory\" + 0.046*\"document\" + 0.001*\"web\" + 0.001*\"detail\" + 0.000*\"documentation\" + 0.000*\"data\" + 0.000*\"new\" + 0.000*\"http\"\n",
      "2020-12-13 20:11:31,172 : INFO : topic #3 (0.095): 0.228*\"swagger\" + 0.116*\"io\" + 0.111*\"swagger_io\" + 0.074*\"irc\" + 0.073*\"petstore\" + 0.045*\"server\" + 0.041*\"sample\" + 0.038*\"net\" + 0.038*\"find\" + 0.037*\"net_swagger\"\n",
      "2020-12-13 20:11:31,173 : INFO : topic diff=0.221023, rho=0.288675\n",
      "2020-12-13 20:11:31,607 : INFO : -3.080 per-word bound, 8.5 perplexity estimate based on a held-out corpus of 1000 documents with 5619 words\n",
      "2020-12-13 20:11:31,608 : INFO : PROGRESS: pass 11, at document #1000/1000\n",
      "2020-12-13 20:11:31,872 : INFO : optimized alpha [0.08763287, 0.08794464, 0.07545207, 0.09405374, 0.094042875, 0.062240962, 0.065309756, 0.06310217, 0.0797585, 0.07749424]\n",
      "2020-12-13 20:11:31,874 : INFO : topic #5 (0.062): 0.201*\"key\" + 0.169*\"token\" + 0.098*\"authorization\" + 0.096*\"use\" + 0.042*\"test\" + 0.037*\"data\" + 0.035*\"access\" + 0.032*\"http\" + 0.031*\"request\" + 0.027*\"create\"\n",
      "2020-12-13 20:11:31,875 : INFO : topic #7 (0.063): 0.770*\"de\" + 0.039*\"rest\" + 0.034*\"http\" + 0.015*\"token\" + 0.015*\"information\" + 0.014*\"com\" + 0.014*\"application\" + 0.011*\"status\" + 0.009*\"simple\" + 0.009*\"web\"\n",
      "2020-12-13 20:11:31,877 : INFO : topic #1 (0.088): 0.172*\"service\" + 0.105*\"oauth\" + 0.096*\"specification\" + 0.094*\"flow\" + 0.093*\"project\" + 0.078*\"application\" + 0.075*\"sample\" + 0.065*\"using\" + 0.055*\"example\" + 0.054*\"security\"\n",
      "2020-12-13 20:11:31,888 : INFO : topic #3 (0.094): 0.229*\"swagger\" + 0.116*\"io\" + 0.111*\"swagger_io\" + 0.074*\"irc\" + 0.073*\"petstore\" + 0.045*\"server\" + 0.041*\"sample\" + 0.038*\"net\" + 0.038*\"find\" + 0.037*\"net_swagger\"\n",
      "2020-12-13 20:11:31,891 : INFO : topic #4 (0.094): 0.502*\"simple\" + 0.225*\"inventory\" + 0.211*\"simple_inventory\" + 0.045*\"document\" + 0.001*\"web\" + 0.001*\"detail\" + 0.000*\"documentation\" + 0.000*\"data\" + 0.000*\"new\" + 0.000*\"http\"\n",
      "2020-12-13 20:11:31,894 : INFO : topic diff=0.191953, rho=0.277350\n",
      "2020-12-13 20:11:32,347 : INFO : -3.077 per-word bound, 8.4 perplexity estimate based on a held-out corpus of 1000 documents with 5619 words\n",
      "2020-12-13 20:11:32,351 : INFO : PROGRESS: pass 12, at document #1000/1000\n",
      "2020-12-13 20:11:32,653 : INFO : optimized alpha [0.08754529, 0.08749479, 0.07496588, 0.09353494, 0.093896694, 0.061208293, 0.0644389, 0.061872125, 0.07935333, 0.077040955]\n",
      "2020-12-13 20:11:32,656 : INFO : topic #5 (0.061): 0.205*\"key\" + 0.170*\"token\" + 0.099*\"use\" + 0.098*\"authorization\" + 0.044*\"test\" + 0.037*\"access\" + 0.036*\"data\" + 0.031*\"request\" + 0.029*\"http\" + 0.028*\"create\"\n",
      "2020-12-13 20:11:32,658 : INFO : topic #7 (0.062): 0.773*\"de\" + 0.039*\"rest\" + 0.034*\"http\" + 0.015*\"token\" + 0.015*\"information\" + 0.014*\"application\" + 0.013*\"com\" + 0.011*\"status\" + 0.009*\"simple\" + 0.009*\"web\"\n",
      "2020-12-13 20:11:32,662 : INFO : topic #0 (0.088): 0.292*\"documentation\" + 0.247*\"web\" + 0.213*\"rest\" + 0.092*\"test\" + 0.061*\"service\" + 0.020*\"using\" + 0.018*\"business\" + 0.007*\"access\" + 0.006*\"key\" + 0.006*\"use\"\n",
      "2020-12-13 20:11:32,670 : INFO : topic #3 (0.094): 0.229*\"swagger\" + 0.116*\"io\" + 0.111*\"swagger_io\" + 0.074*\"irc\" + 0.073*\"petstore\" + 0.045*\"server\" + 0.041*\"sample\" + 0.038*\"net\" + 0.038*\"find\" + 0.037*\"net_swagger\"\n",
      "2020-12-13 20:11:32,673 : INFO : topic #4 (0.094): 0.504*\"simple\" + 0.225*\"inventory\" + 0.212*\"simple_inventory\" + 0.044*\"document\" + 0.001*\"web\" + 0.001*\"detail\" + 0.000*\"documentation\" + 0.000*\"data\" + 0.000*\"new\" + 0.000*\"http\"\n",
      "2020-12-13 20:11:32,677 : INFO : topic diff=0.168241, rho=0.267261\n",
      "2020-12-13 20:11:33,247 : INFO : -3.074 per-word bound, 8.4 perplexity estimate based on a held-out corpus of 1000 documents with 5619 words\n",
      "2020-12-13 20:11:33,252 : INFO : PROGRESS: pass 13, at document #1000/1000\n",
      "2020-12-13 20:11:33,619 : INFO : optimized alpha [0.08744938, 0.087036885, 0.07452322, 0.09303806, 0.09374471, 0.060232114, 0.063626364, 0.060733266, 0.07896561, 0.07665016]\n",
      "2020-12-13 20:11:33,622 : INFO : topic #5 (0.060): 0.208*\"key\" + 0.171*\"token\" + 0.102*\"use\" + 0.099*\"authorization\" + 0.046*\"test\" + 0.038*\"access\" + 0.035*\"data\" + 0.031*\"request\" + 0.026*\"create\" + 0.026*\"http\"\n",
      "2020-12-13 20:11:33,624 : INFO : topic #7 (0.061): 0.776*\"de\" + 0.039*\"rest\" + 0.034*\"http\" + 0.015*\"token\" + 0.015*\"information\" + 0.014*\"application\" + 0.013*\"com\" + 0.011*\"status\" + 0.009*\"web\" + 0.008*\"simple\"\n",
      "2020-12-13 20:11:33,635 : INFO : topic #0 (0.087): 0.292*\"documentation\" + 0.251*\"web\" + 0.213*\"rest\" + 0.092*\"test\" + 0.062*\"service\" + 0.020*\"using\" + 0.018*\"business\" + 0.006*\"access\" + 0.005*\"use\" + 0.005*\"key\"\n",
      "2020-12-13 20:11:33,638 : INFO : topic #3 (0.093): 0.229*\"swagger\" + 0.116*\"io\" + 0.111*\"swagger_io\" + 0.074*\"irc\" + 0.073*\"petstore\" + 0.045*\"server\" + 0.041*\"sample\" + 0.038*\"net\" + 0.038*\"find\" + 0.037*\"net_swagger\"\n",
      "2020-12-13 20:11:33,641 : INFO : topic #4 (0.094): 0.505*\"simple\" + 0.226*\"inventory\" + 0.212*\"simple_inventory\" + 0.043*\"document\" + 0.001*\"web\" + 0.000*\"detail\" + 0.000*\"documentation\" + 0.000*\"data\" + 0.000*\"new\" + 0.000*\"http\"\n",
      "2020-12-13 20:11:33,646 : INFO : topic diff=0.147112, rho=0.258199\n",
      "2020-12-13 20:11:34,224 : INFO : -3.071 per-word bound, 8.4 perplexity estimate based on a held-out corpus of 1000 documents with 5619 words\n",
      "2020-12-13 20:11:34,226 : INFO : PROGRESS: pass 14, at document #1000/1000\n",
      "2020-12-13 20:11:34,545 : INFO : optimized alpha [0.0873456, 0.08646616, 0.07413891, 0.09256014, 0.09358711, 0.05931975, 0.0628798, 0.05967357, 0.07857316, 0.076350115]\n",
      "2020-12-13 20:11:34,549 : INFO : topic #5 (0.059): 0.210*\"key\" + 0.173*\"token\" + 0.103*\"use\" + 0.099*\"authorization\" + 0.047*\"test\" + 0.040*\"access\" + 0.035*\"data\" + 0.032*\"request\" + 0.027*\"create\" + 0.025*\"find\"\n",
      "2020-12-13 20:11:34,554 : INFO : topic #7 (0.060): 0.778*\"de\" + 0.038*\"rest\" + 0.034*\"http\" + 0.015*\"token\" + 0.014*\"information\" + 0.014*\"application\" + 0.012*\"com\" + 0.011*\"status\" + 0.008*\"web\" + 0.008*\"simple\"\n",
      "2020-12-13 20:11:34,558 : INFO : topic #0 (0.087): 0.293*\"documentation\" + 0.256*\"web\" + 0.214*\"rest\" + 0.092*\"test\" + 0.062*\"service\" + 0.020*\"using\" + 0.018*\"business\" + 0.006*\"access\" + 0.004*\"use\" + 0.004*\"key\"\n",
      "2020-12-13 20:11:34,562 : INFO : topic #3 (0.093): 0.229*\"swagger\" + 0.116*\"io\" + 0.111*\"swagger_io\" + 0.074*\"irc\" + 0.073*\"petstore\" + 0.045*\"server\" + 0.041*\"sample\" + 0.038*\"net\" + 0.038*\"find\" + 0.037*\"net_swagger\"\n",
      "2020-12-13 20:11:34,591 : INFO : topic #4 (0.094): 0.506*\"simple\" + 0.226*\"inventory\" + 0.212*\"simple_inventory\" + 0.042*\"document\" + 0.001*\"web\" + 0.000*\"detail\" + 0.000*\"documentation\" + 0.000*\"data\" + 0.000*\"new\" + 0.000*\"http\"\n",
      "2020-12-13 20:11:34,601 : INFO : topic diff=0.129932, rho=0.250000\n",
      "2020-12-13 20:11:35,103 : INFO : -3.069 per-word bound, 8.4 perplexity estimate based on a held-out corpus of 1000 documents with 5619 words\n",
      "2020-12-13 20:11:35,105 : INFO : PROGRESS: pass 15, at document #1000/1000\n",
      "2020-12-13 20:11:35,322 : INFO : optimized alpha [0.08723576, 0.08574864, 0.07377088, 0.0921205, 0.09344533, 0.058464114, 0.06217746, 0.058683805, 0.0781762, 0.07620128]\n",
      "2020-12-13 20:11:35,324 : INFO : topic #5 (0.058): 0.212*\"key\" + 0.174*\"token\" + 0.104*\"use\" + 0.100*\"authorization\" + 0.048*\"test\" + 0.041*\"access\" + 0.034*\"data\" + 0.032*\"request\" + 0.027*\"create\" + 0.025*\"find\"\n",
      "2020-12-13 20:11:35,326 : INFO : topic #7 (0.059): 0.781*\"de\" + 0.038*\"rest\" + 0.033*\"http\" + 0.016*\"token\" + 0.014*\"information\" + 0.014*\"application\" + 0.012*\"com\" + 0.011*\"status\" + 0.008*\"web\" + 0.007*\"oauth\"\n",
      "2020-12-13 20:11:35,331 : INFO : topic #0 (0.087): 0.293*\"documentation\" + 0.259*\"web\" + 0.215*\"rest\" + 0.092*\"test\" + 0.063*\"service\" + 0.020*\"using\" + 0.018*\"business\" + 0.005*\"access\" + 0.003*\"use\" + 0.003*\"key\"\n",
      "2020-12-13 20:11:35,338 : INFO : topic #3 (0.092): 0.230*\"swagger\" + 0.116*\"io\" + 0.111*\"swagger_io\" + 0.074*\"irc\" + 0.073*\"petstore\" + 0.045*\"server\" + 0.041*\"sample\" + 0.038*\"net\" + 0.038*\"find\" + 0.037*\"net_swagger\"\n",
      "2020-12-13 20:11:35,341 : INFO : topic #4 (0.093): 0.506*\"simple\" + 0.226*\"inventory\" + 0.212*\"simple_inventory\" + 0.041*\"document\" + 0.000*\"web\" + 0.000*\"detail\" + 0.000*\"documentation\" + 0.000*\"data\" + 0.000*\"new\" + 0.000*\"http\"\n",
      "2020-12-13 20:11:35,343 : INFO : topic diff=0.116303, rho=0.242536\n",
      "2020-12-13 20:11:35,713 : INFO : -3.066 per-word bound, 8.4 perplexity estimate based on a held-out corpus of 1000 documents with 5619 words\n",
      "2020-12-13 20:11:35,717 : INFO : PROGRESS: pass 16, at document #1000/1000\n",
      "2020-12-13 20:11:36,007 : INFO : optimized alpha [0.08712141, 0.084643885, 0.07338045, 0.09169624, 0.09330013, 0.05768773, 0.061542425, 0.057756145, 0.077813536, 0.076449424]\n",
      "2020-12-13 20:11:36,009 : INFO : topic #5 (0.058): 0.213*\"key\" + 0.175*\"token\" + 0.107*\"use\" + 0.100*\"authorization\" + 0.049*\"test\" + 0.042*\"access\" + 0.034*\"data\" + 0.033*\"request\" + 0.027*\"create\" + 0.026*\"find\"\n",
      "2020-12-13 20:11:36,011 : INFO : topic #7 (0.058): 0.783*\"de\" + 0.038*\"rest\" + 0.033*\"http\" + 0.016*\"token\" + 0.014*\"information\" + 0.014*\"application\" + 0.012*\"com\" + 0.010*\"status\" + 0.008*\"web\" + 0.007*\"oauth\"\n",
      "2020-12-13 20:11:36,020 : INFO : topic #0 (0.087): 0.293*\"documentation\" + 0.262*\"web\" + 0.215*\"rest\" + 0.091*\"test\" + 0.063*\"service\" + 0.019*\"using\" + 0.018*\"business\" + 0.004*\"access\" + 0.003*\"use\" + 0.002*\"key\"\n",
      "2020-12-13 20:11:36,024 : INFO : topic #3 (0.092): 0.230*\"swagger\" + 0.116*\"io\" + 0.111*\"swagger_io\" + 0.074*\"irc\" + 0.073*\"petstore\" + 0.045*\"server\" + 0.040*\"sample\" + 0.038*\"net\" + 0.038*\"find\" + 0.037*\"net_swagger\"\n",
      "2020-12-13 20:11:36,027 : INFO : topic #4 (0.093): 0.507*\"simple\" + 0.226*\"inventory\" + 0.212*\"simple_inventory\" + 0.041*\"document\" + 0.000*\"web\" + 0.000*\"detail\" + 0.000*\"documentation\" + 0.000*\"data\" + 0.000*\"new\" + 0.000*\"http\"\n",
      "2020-12-13 20:11:36,030 : INFO : topic diff=0.105031, rho=0.235702\n",
      "2020-12-13 20:11:36,686 : INFO : -3.061 per-word bound, 8.3 perplexity estimate based on a held-out corpus of 1000 documents with 5619 words\n",
      "2020-12-13 20:11:36,688 : INFO : PROGRESS: pass 17, at document #1000/1000\n",
      "2020-12-13 20:11:36,912 : INFO : optimized alpha [0.0870024, 0.08352847, 0.07302442, 0.09128608, 0.09315062, 0.056941275, 0.06095627, 0.056883868, 0.077463865, 0.07672747]\n",
      "2020-12-13 20:11:36,918 : INFO : topic #7 (0.057): 0.785*\"de\" + 0.038*\"rest\" + 0.032*\"http\" + 0.016*\"token\" + 0.014*\"information\" + 0.014*\"application\" + 0.011*\"com\" + 0.010*\"status\" + 0.008*\"web\" + 0.008*\"oauth\"\n",
      "2020-12-13 20:11:36,922 : INFO : topic #5 (0.057): 0.214*\"key\" + 0.176*\"token\" + 0.110*\"use\" + 0.101*\"authorization\" + 0.050*\"test\" + 0.043*\"access\" + 0.034*\"data\" + 0.033*\"request\" + 0.027*\"create\" + 0.026*\"find\"\n",
      "2020-12-13 20:11:36,925 : INFO : topic #0 (0.087): 0.293*\"documentation\" + 0.264*\"web\" + 0.215*\"rest\" + 0.091*\"test\" + 0.064*\"service\" + 0.019*\"using\" + 0.018*\"business\" + 0.004*\"access\" + 0.002*\"use\" + 0.002*\"key\"\n",
      "2020-12-13 20:11:36,934 : INFO : topic #3 (0.091): 0.230*\"swagger\" + 0.116*\"io\" + 0.111*\"swagger_io\" + 0.074*\"irc\" + 0.073*\"petstore\" + 0.045*\"server\" + 0.040*\"sample\" + 0.038*\"net\" + 0.038*\"find\" + 0.037*\"net_swagger\"\n",
      "2020-12-13 20:11:36,938 : INFO : topic #4 (0.093): 0.507*\"simple\" + 0.226*\"inventory\" + 0.213*\"simple_inventory\" + 0.040*\"document\" + 0.000*\"web\" + 0.000*\"detail\" + 0.000*\"documentation\" + 0.000*\"data\" + 0.000*\"new\" + 0.000*\"http\"\n",
      "2020-12-13 20:11:36,940 : INFO : topic diff=0.093340, rho=0.229416\n",
      "2020-12-13 20:11:37,474 : INFO : -3.057 per-word bound, 8.3 perplexity estimate based on a held-out corpus of 1000 documents with 5619 words\n",
      "2020-12-13 20:11:37,477 : INFO : PROGRESS: pass 18, at document #1000/1000\n",
      "2020-12-13 20:11:37,876 : INFO : optimized alpha [0.08687872, 0.082462244, 0.0726823, 0.0908877, 0.09297559, 0.056221947, 0.0603989, 0.056060854, 0.07711009, 0.07698234]\n",
      "2020-12-13 20:11:37,878 : INFO : topic #7 (0.056): 0.788*\"de\" + 0.038*\"rest\" + 0.031*\"http\" + 0.016*\"token\" + 0.014*\"application\" + 0.014*\"information\" + 0.011*\"com\" + 0.010*\"status\" + 0.008*\"web\" + 0.008*\"oauth\"\n",
      "2020-12-13 20:11:37,880 : INFO : topic #5 (0.056): 0.216*\"key\" + 0.177*\"token\" + 0.112*\"use\" + 0.101*\"authorization\" + 0.051*\"test\" + 0.044*\"access\" + 0.034*\"request\" + 0.033*\"data\" + 0.027*\"create\" + 0.026*\"find\"\n",
      "2020-12-13 20:11:37,891 : INFO : topic #0 (0.087): 0.293*\"documentation\" + 0.266*\"web\" + 0.215*\"rest\" + 0.091*\"test\" + 0.064*\"service\" + 0.019*\"using\" + 0.018*\"business\" + 0.003*\"access\" + 0.002*\"use\" + 0.002*\"new\"\n",
      "2020-12-13 20:11:37,894 : INFO : topic #3 (0.091): 0.230*\"swagger\" + 0.116*\"io\" + 0.111*\"swagger_io\" + 0.074*\"irc\" + 0.073*\"petstore\" + 0.045*\"server\" + 0.040*\"sample\" + 0.038*\"net\" + 0.038*\"find\" + 0.037*\"net_swagger\"\n",
      "2020-12-13 20:11:37,902 : INFO : topic #4 (0.093): 0.508*\"simple\" + 0.226*\"inventory\" + 0.213*\"simple_inventory\" + 0.039*\"document\" + 0.000*\"web\" + 0.000*\"detail\" + 0.000*\"documentation\" + 0.000*\"data\" + 0.000*\"new\" + 0.000*\"http\"\n",
      "2020-12-13 20:11:37,909 : INFO : topic diff=0.082752, rho=0.223607\n",
      "2020-12-13 20:11:38,492 : INFO : -3.055 per-word bound, 8.3 perplexity estimate based on a held-out corpus of 1000 documents with 5619 words\n",
      "2020-12-13 20:11:38,494 : INFO : PROGRESS: pass 19, at document #1000/1000\n",
      "2020-12-13 20:11:38,818 : INFO : optimized alpha [0.08675299, 0.081439584, 0.07236886, 0.0905021, 0.092800125, 0.055552047, 0.059894, 0.055282917, 0.076735064, 0.077233605]\n",
      "2020-12-13 20:11:38,820 : INFO : topic #7 (0.055): 0.790*\"de\" + 0.038*\"rest\" + 0.030*\"http\" + 0.016*\"token\" + 0.014*\"application\" + 0.014*\"information\" + 0.011*\"com\" + 0.010*\"status\" + 0.008*\"web\" + 0.008*\"oauth\"\n",
      "2020-12-13 20:11:38,822 : INFO : topic #5 (0.056): 0.217*\"key\" + 0.178*\"token\" + 0.114*\"use\" + 0.101*\"authorization\" + 0.052*\"test\" + 0.045*\"access\" + 0.034*\"request\" + 0.032*\"data\" + 0.027*\"create\" + 0.026*\"find\"\n",
      "2020-12-13 20:11:38,826 : INFO : topic #0 (0.087): 0.293*\"documentation\" + 0.267*\"web\" + 0.216*\"rest\" + 0.091*\"test\" + 0.064*\"service\" + 0.020*\"using\" + 0.018*\"business\" + 0.003*\"access\" + 0.002*\"use\" + 0.001*\"new\"\n",
      "2020-12-13 20:11:38,829 : INFO : topic #3 (0.091): 0.230*\"swagger\" + 0.116*\"io\" + 0.111*\"swagger_io\" + 0.074*\"irc\" + 0.073*\"petstore\" + 0.045*\"server\" + 0.040*\"sample\" + 0.038*\"net\" + 0.038*\"find\" + 0.037*\"net_swagger\"\n",
      "2020-12-13 20:11:38,836 : INFO : topic #4 (0.093): 0.509*\"simple\" + 0.227*\"inventory\" + 0.213*\"simple_inventory\" + 0.038*\"document\" + 0.000*\"web\" + 0.000*\"detail\" + 0.000*\"documentation\" + 0.000*\"data\" + 0.000*\"new\" + 0.000*\"http\"\n",
      "2020-12-13 20:11:38,841 : INFO : topic diff=0.073704, rho=0.218218\n"
     ]
    }
   ],
   "source": [
    "# Train LDA model.\n",
    "from gensim.models import LdaModel\n",
    "\n",
    "# Set training parameters.\n",
    "num_topics = 10\n",
    "chunksize = 2000\n",
    "passes = 20\n",
    "iterations = 400\n",
    "eval_every = 1  # Don't evaluate model perplexity, takes too much time.\n",
    "\n",
    "# Make a index to word dictionary.\n",
    "temp = dictionary[0]  # This is only to \"load\" the dictionary.\n",
    "id2word = dictionary.id2token\n",
    "\n",
    "model = LdaModel(\n",
    "    corpus=corpus,\n",
    "    id2word=id2word,\n",
    "    chunksize=chunksize,\n",
    "    alpha='auto',\n",
    "    eta='auto',\n",
    "    iterations=iterations,\n",
    "    num_topics=num_topics,\n",
    "    passes=passes,\n",
    "    eval_every=eval_every\n",
    ")"
   ]
  },
  {
   "cell_type": "code",
   "execution_count": 62,
   "metadata": {},
   "outputs": [
    {
     "output_type": "stream",
     "name": "stderr",
     "text": [
      "c:\\Users\\fialho\\Desktop\\py_extract_swagger\\.venv\\lib\\site-packages\\ipykernel\\ipkernel.py:287: DeprecationWarning: `should_run_async` will not call `transform_cell` automatically in the future. Please pass the result to `transformed_cell` argument and any exception that happen during thetransform in `preprocessing_exc_tuple` in IPython 7.17 and above.\n",
      "  and should_run_async(code)\n",
      "2020-12-13 20:11:39,047 : INFO : CorpusAccumulator accumulated stats from 1000 documents\n",
      "[([(0.14248498, 'order'),\n",
      "   (0.12449872, 'app'),\n",
      "   (0.11186804, 'http'),\n",
      "   (0.10665513, 'com'),\n",
      "   (0.095363766, 'doc'),\n",
      "   (0.09269815, 'payment'),\n",
      "   (0.068181396, 'business'),\n",
      "   (0.061121587, 'status'),\n",
      "   (0.03589227, 'operation'),\n",
      "   (0.032751247, 'transaction'),\n",
      "   (0.029731214, 'get'),\n",
      "   (0.027047811, 'link'),\n",
      "   (0.023426395, 'information'),\n",
      "   (0.019572964, 'create'),\n",
      "   (0.016585676, 'new'),\n",
      "   (0.004366364, 'used'),\n",
      "   (0.0036796355, 'authorization'),\n",
      "   (0.00010294368, 'use'),\n",
      "   (9.507902e-05, 'detail'),\n",
      "   (9.482935e-05, 'user')],\n",
      "  -1.728712285196215),\n",
      " ([(0.2301088, 'swagger'),\n",
      "   (0.11608842, 'io'),\n",
      "   (0.11125875, 'swagger_io'),\n",
      "   (0.073894225, 'irc'),\n",
      "   (0.07345442, 'petstore'),\n",
      "   (0.045331195, 'server'),\n",
      "   (0.04044126, 'sample'),\n",
      "   (0.038483597, 'net'),\n",
      "   (0.037509367, 'find'),\n",
      "   (0.036969062, 'net_swagger'),\n",
      "   (0.03696906, 'freenode'),\n",
      "   (0.03696906, 'irc_freenode'),\n",
      "   (0.034331102, 'nout'),\n",
      "   (0.028616844, 'nout_swagger'),\n",
      "   (0.028616844, 'sample_petstore'),\n",
      "   (0.028616844, 'server_find'),\n",
      "   (0.0001797603, 'test'),\n",
      "   (0.00010903625, 'key'),\n",
      "   (7.130044e-05, 'use'),\n",
      "   (6.526828e-05, 'authorization')],\n",
      "  -2.8857274503896244),\n",
      " ([(0.18752182, 'com'),\n",
      "   (0.14578193, 'http'),\n",
      "   (0.095083304, 'request'),\n",
      "   (0.071481206, 'endpoint'),\n",
      "   (0.06615234, 'code'),\n",
      "   (0.06589789, 'system'),\n",
      "   (0.06287342, 'detail'),\n",
      "   (0.039067328, 'use'),\n",
      "   (0.036206223, 'oauth'),\n",
      "   (0.02638158, 'document'),\n",
      "   (0.022642203, 'service'),\n",
      "   (0.020332389, 'example'),\n",
      "   (0.018950436, 'new'),\n",
      "   (0.018320639, 'information'),\n",
      "   (0.01774831, 'status'),\n",
      "   (0.015168022, 'find'),\n",
      "   (0.012696707, 'token'),\n",
      "   (0.010850796, 'documentation'),\n",
      "   (0.010381905, 'authorization'),\n",
      "   (0.010117518, 'using')],\n",
      "  -3.1190110930943877),\n",
      " ([(0.29550055, 'user'),\n",
      "   (0.266538, 'service'),\n",
      "   (0.09682254, 'application'),\n",
      "   (0.088051364, 'get'),\n",
      "   (0.065802515, 'information'),\n",
      "   (0.049605597, 'access'),\n",
      "   (0.036422, 'used'),\n",
      "   (0.034572307, 'use'),\n",
      "   (0.021318626, 'new'),\n",
      "   (0.016185362, 'using'),\n",
      "   (0.005814058, 'request'),\n",
      "   (0.005329178, 'create'),\n",
      "   (0.0009220923, 'app'),\n",
      "   (0.0008137411, 'token'),\n",
      "   (0.000500627, 'simple'),\n",
      "   (0.00038883628, 'data'),\n",
      "   (0.00038687463, 'sample'),\n",
      "   (0.00036578623, 'rest'),\n",
      "   (0.00036350478, 'key'),\n",
      "   (0.00035755476, 'transaction')],\n",
      "  -3.903303180552088),\n",
      " ([(0.29314888, 'documentation'),\n",
      "   (0.2673659, 'web'),\n",
      "   (0.21552995, 'rest'),\n",
      "   (0.090871274, 'test'),\n",
      "   (0.06354346, 'service'),\n",
      "   (0.01966812, 'using'),\n",
      "   (0.018216316, 'business'),\n",
      "   (0.0028973147, 'access'),\n",
      "   (0.0017222819, 'use'),\n",
      "   (0.0013672945, 'new'),\n",
      "   (0.0013442523, 'key'),\n",
      "   (0.00090520893, 'find'),\n",
      "   (0.00081501814, 'request'),\n",
      "   (0.0006447359, 'information'),\n",
      "   (0.0006233241, 'com'),\n",
      "   (0.0005975112, 'code'),\n",
      "   (0.0005287399, 'operation'),\n",
      "   (0.0004992653, 'simple'),\n",
      "   (0.0004822651, 'application'),\n",
      "   (0.0004456726, 'http')],\n",
      "  -4.720058507121552),\n",
      " ([(0.21667868, 'key'),\n",
      "   (0.17823023, 'token'),\n",
      "   (0.113922246, 'use'),\n",
      "   (0.10134848, 'authorization'),\n",
      "   (0.052007306, 'test'),\n",
      "   (0.044875167, 'access'),\n",
      "   (0.03410129, 'request'),\n",
      "   (0.032212775, 'data'),\n",
      "   (0.027026325, 'create'),\n",
      "   (0.02582829, 'find'),\n",
      "   (0.018994734, 'net'),\n",
      "   (0.016942192, 'link'),\n",
      "   (0.016732682, 'system'),\n",
      "   (0.015321367, 'sample'),\n",
      "   (0.014843155, 'http'),\n",
      "   (0.012960477, 'transaction'),\n",
      "   (0.010939699, 'service'),\n",
      "   (0.010929683, 'describe'),\n",
      "   (0.009032747, 'swagger'),\n",
      "   (0.007890696, 'server')],\n",
      "  -4.951468937073945),\n",
      " ([(0.121167205, 'oauth'),\n",
      "   (0.110038, 'specification'),\n",
      "   (0.10736159, 'flow'),\n",
      "   (0.104815744, 'project'),\n",
      "   (0.0892654, 'sample'),\n",
      "   (0.08646256, 'application'),\n",
      "   (0.075414434, 'service'),\n",
      "   (0.07055312, 'using'),\n",
      "   (0.062853515, 'example'),\n",
      "   (0.061831113, 'security'),\n",
      "   (0.05916833, 'describe'),\n",
      "   (0.014451703, 'access'),\n",
      "   (0.011153481, 'code'),\n",
      "   (0.008906111, 'transaction'),\n",
      "   (0.0014064619, 'detail'),\n",
      "   (0.0010428808, 'web'),\n",
      "   (0.00063292804, 'information'),\n",
      "   (0.00049613696, 'new'),\n",
      "   (0.00047645546, 'used'),\n",
      "   (0.0004580551, 'status')],\n",
      "  -5.566193318776757),\n",
      " ([(0.34479752, 'data'),\n",
      "   (0.31811568, 'server'),\n",
      "   (0.17393476, 'used'),\n",
      "   (0.043974683, 'information'),\n",
      "   (0.030618625, 'project'),\n",
      "   (0.028548466, 'endpoint'),\n",
      "   (0.010126535, 'find'),\n",
      "   (0.004812378, 'application'),\n",
      "   (0.001655549, 'com'),\n",
      "   (0.0016190434, 'http'),\n",
      "   (0.0013439426, 'get'),\n",
      "   (0.0011475635, 'simple'),\n",
      "   (0.0009048994, 'inventory'),\n",
      "   (0.000832714, 'documentation'),\n",
      "   (0.00082251383, 'use'),\n",
      "   (0.00081483816, 'simple_inventory'),\n",
      "   (0.000807414, 'net'),\n",
      "   (0.0007972347, 'system'),\n",
      "   (0.00077199115, 'service'),\n",
      "   (0.00077124365, 'rest')],\n",
      "  -7.458229672171259),\n",
      " ([(0.5089234, 'simple'),\n",
      "   (0.22657731, 'inventory'),\n",
      "   (0.21288466, 'simple_inventory'),\n",
      "   (0.037829034, 'document'),\n",
      "   (0.00032364926, 'web'),\n",
      "   (0.00027661544, 'detail'),\n",
      "   (0.00025040834, 'documentation'),\n",
      "   (0.00024322738, 'data'),\n",
      "   (0.00023810148, 'new'),\n",
      "   (0.0002375515, 'http'),\n",
      "   (0.0002367678, 'com'),\n",
      "   (0.00023625778, 'token'),\n",
      "   (0.00023561824, 'request'),\n",
      "   (0.00023561239, 'code'),\n",
      "   (0.00023446667, 'system'),\n",
      "   (0.00023395286, 'payment'),\n",
      "   (0.00023380519, 'server'),\n",
      "   (0.0002333173, 'used'),\n",
      "   (0.00023287597, 'application'),\n",
      "   (0.00023216712, 'find')],\n",
      "  -7.6235112781029795),\n",
      " ([(0.7896727, 'de'),\n",
      "   (0.03824765, 'rest'),\n",
      "   (0.029814381, 'http'),\n",
      "   (0.015840678, 'token'),\n",
      "   (0.014191541, 'application'),\n",
      "   (0.013979334, 'information'),\n",
      "   (0.010846115, 'com'),\n",
      "   (0.010293729, 'status'),\n",
      "   (0.008445077, 'web'),\n",
      "   (0.007552168, 'oauth'),\n",
      "   (0.007548743, 'security'),\n",
      "   (0.0075486735, 'operation'),\n",
      "   (0.0075461874, 'net'),\n",
      "   (0.003871608, 'simple'),\n",
      "   (0.001035453, 'service'),\n",
      "   (0.00089424715, 'data'),\n",
      "   (0.0007567934, 'app'),\n",
      "   (0.00075519586, 'inventory'),\n",
      "   (0.0007517507, 'simple_inventory'),\n",
      "   (0.0007428243, 'access')],\n",
      "  -7.815811606349759)]\n"
     ]
    }
   ],
   "source": [
    "#View Top Topic\n",
    "from pprint import pprint\n",
    "\n",
    "top_topics = model.top_topics(corpus) #, num_words=20)\n",
    "\n",
    "pprint(top_topics)"
   ]
  },
  {
   "source": [
    "## Avaliação do Modelo"
   ],
   "cell_type": "markdown",
   "metadata": {}
  },
  {
   "cell_type": "code",
   "execution_count": 64,
   "metadata": {},
   "outputs": [
    {
     "output_type": "stream",
     "name": "stderr",
     "text": [
      "c:\\Users\\fialho\\Desktop\\py_extract_swagger\\.venv\\lib\\site-packages\\ipykernel\\ipkernel.py:287: DeprecationWarning: `should_run_async` will not call `transform_cell` automatically in the future. Please pass the result to `transformed_cell` argument and any exception that happen during thetransform in `preprocessing_exc_tuple` in IPython 7.17 and above.\n",
      "  and should_run_async(code)\n",
      "C:\\Python38\\lib\\asyncio\\events.py:81: DeprecationWarning: `run_cell_async` will not call `transform_cell` automatically in the future. Please pass the result to `transformed_cell` argument and any exception that happen during thetransform in `preprocessing_exc_tuple` in IPython 7.17 and above.\n",
      "  self._context.run(self._callback, *self._args)\n",
      "2020-12-13 20:15:17,111 : INFO : -3.053 per-word bound, 8.3 perplexity estimate based on a held-out corpus of 1000 documents with 5619 words\n",
      "2020-12-13 20:15:17,118 : INFO : using ParallelWordOccurrenceAccumulator(processes=3, batch_size=64) to estimate probabilities from sliding windows\n",
      "\n",
      "Perplexity:  -3.053097612096398\n",
      "Average topic coherence: -4.9772.\n",
      "2020-12-13 20:15:20,440 : INFO : 3 accumulators retrieved from output queue\n",
      "2020-12-13 20:15:20,473 : INFO : accumulated word occurrence stats for 3220 virtual documents\n",
      "\n",
      "Coherence Score:  0.44694853189865336\n"
     ]
    }
   ],
   "source": [
    "from gensim.models import CoherenceModel\n",
    "\n",
    "# Compute Perplexity\n",
    "print('\\nPerplexity: ', model.log_perplexity(corpus))  \n",
    "# a measure of how good the model is. lower the better.\n",
    "\n",
    "# Average topic coherence is the sum of topic coherences of all topics, divided by the number of topics.\n",
    "avg_topic_coherence = sum([t[1] for t in top_topics]) / num_topics\n",
    "print('Average topic coherence: %.4f.' % avg_topic_coherence)\n",
    "\n",
    "# Compute Coherence Score\n",
    "coherence_model = CoherenceModel(model=model, texts=docs, dictionary=dictionary, coherence='c_v')\n",
    "coherence_lda = coherence_model.get_coherence()\n",
    "print('\\nCoherence Score: ', coherence_lda)"
   ]
  },
  {
   "source": [
    "# Visualização do Modelo"
   ],
   "cell_type": "markdown",
   "metadata": {}
  },
  {
   "cell_type": "code",
   "execution_count": 65,
   "metadata": {},
   "outputs": [
    {
     "output_type": "stream",
     "name": "stderr",
     "text": [
      "c:\\Users\\fialho\\Desktop\\py_extract_swagger\\.venv\\lib\\site-packages\\ipykernel\\ipkernel.py:287: DeprecationWarning: `should_run_async` will not call `transform_cell` automatically in the future. Please pass the result to `transformed_cell` argument and any exception that happen during thetransform in `preprocessing_exc_tuple` in IPython 7.17 and above.\n",
      "  and should_run_async(code)\n",
      "2020-12-13 20:15:26,876 : INFO : NumExpr defaulting to 4 threads.\n"
     ]
    },
    {
     "output_type": "execute_result",
     "data": {
      "text/plain": [
       "PreparedData(topic_coordinates=              x         y  topics  cluster       Freq\n",
       "topic                                                \n",
       "3      0.337233 -0.095506       1        1  40.016387\n",
       "8     -0.210202  0.235102       2        1  20.253134\n",
       "2     -0.198268  0.071662       3        1   7.814793\n",
       "4      0.263512  0.286512       4        1   7.225754\n",
       "1     -0.032011 -0.225651       5        1   6.310764\n",
       "9     -0.126189 -0.173558       6        1   5.556870\n",
       "0     -0.050378 -0.065977       7        1   3.936511\n",
       "5     -0.038510 -0.078826       8        1   3.601230\n",
       "7     -0.049268  0.130169       9        1   2.709115\n",
       "6      0.104080 -0.083927      10        1   2.575443, topic_info=       Term        Freq       Total Category  logprob  loglift\n",
       "1    simple  208.000000  208.000000  Default  30.0000  30.0000\n",
       "28       de  121.000000  121.000000  Default  29.0000  29.0000\n",
       "13   server  151.000000  151.000000  Default  28.0000  28.0000\n",
       "25  swagger  520.000000  520.000000  Default  27.0000  27.0000\n",
       "6       com  206.000000  206.000000  Default  26.0000  26.0000\n",
       "..      ...         ...         ...      ...      ...      ...\n",
       "33    oauth    0.111303   60.750205  Topic10  -7.1703  -2.6431\n",
       "34  request    0.110960   51.278550  Topic10  -7.1733  -2.4767\n",
       "54   status    0.111450   79.685456  Topic10  -7.1689  -2.9131\n",
       "45      web    0.111172   64.704507  Topic10  -7.1714  -2.7074\n",
       "56  service    0.111718  136.743171  Topic10  -7.1665  -3.4507\n",
       "\n",
       "[420 rows x 6 columns], token_table=      Topic      Freq    Term\n",
       "term                         \n",
       "35        5  0.160801  access\n",
       "35        6  0.482402  access\n",
       "35        7  0.032160  access\n",
       "35        8  0.289441  access\n",
       "46        2  0.977601     app\n",
       "...     ...       ...     ...\n",
       "52        6  0.126642   using\n",
       "52        7  0.101313   using\n",
       "45        3  0.046365     web\n",
       "45        7  0.911838     web\n",
       "45        9  0.015455     web\n",
       "\n",
       "[143 rows x 3 columns], R=30, lambda_step=0.01, plot_opts={'xlab': 'PC1', 'ylab': 'PC2'}, topic_order=[4, 9, 3, 5, 2, 10, 1, 6, 8, 7])"
      ],
      "text/html": "\n<link rel=\"stylesheet\" type=\"text/css\" href=\"https://cdn.rawgit.com/bmabey/pyLDAvis/files/ldavis.v1.0.0.css\">\n\n\n<div id=\"ldavis_el1360420415130346884702028055\"></div>\n<script type=\"text/javascript\">\n\nvar ldavis_el1360420415130346884702028055_data = {\"mdsDat\": {\"x\": [0.33723276882607933, -0.21020150593662412, -0.19826808732317053, 0.2635120950977493, -0.03201054906842598, -0.12618930871284845, -0.05037795485517475, -0.038510290310081026, -0.04926760394501901, 0.10408043622751681], \"y\": [-0.09550622765051242, 0.23510181080302298, 0.07166207843171887, 0.2865120263229828, -0.22565052910047595, -0.17355800610454536, -0.06597727801974546, -0.07882622806567324, 0.13016928373606884, -0.08392693035284077], \"topics\": [1, 2, 3, 4, 5, 6, 7, 8, 9, 10], \"cluster\": [1, 1, 1, 1, 1, 1, 1, 1, 1, 1], \"Freq\": [40.01638727279076, 20.253133857543467, 7.814793253275694, 7.225753815628054, 6.310763778600584, 5.556869555691241, 3.93651079902599, 3.601230281201577, 2.7091146172442917, 2.5754427689983417]}, \"tinfo\": {\"Term\": [\"simple\", \"de\", \"server\", \"swagger\", \"com\", \"user\", \"service\", \"order\", \"http\", \"inventory\", \"simple_inventory\", \"documentation\", \"io\", \"swagger_io\", \"app\", \"data\", \"web\", \"sample\", \"doc\", \"rest\", \"payment\", \"key\", \"irc\", \"used\", \"petstore\", \"token\", \"application\", \"oauth\", \"get\", \"use\", \"io\", \"swagger_io\", \"swagger\", \"irc\", \"petstore\", \"net_swagger\", \"irc_freenode\", \"freenode\", \"nout\", \"sample_petstore\", \"nout_swagger\", \"server_find\", \"net\", \"find\", \"sample\", \"server\", \"test\", \"key\", \"authorization\", \"security\", \"describe\", \"document\", \"detail\", \"create\", \"access\", \"use\", \"example\", \"system\", \"code\", \"new\", \"endpoint\", \"project\", \"flow\", \"specification\", \"request\", \"app\", \"oauth\", \"order\", \"using\", \"order\", \"doc\", \"payment\", \"app\", \"operation\", \"business\", \"link\", \"status\", \"transaction\", \"create\", \"http\", \"com\", \"new\", \"get\", \"information\", \"authorization\", \"used\", \"security\", \"describe\", \"detail\", \"document\", \"access\", \"test\", \"example\", \"system\", \"code\", \"endpoint\", \"flow\", \"using\", \"specification\", \"use\", \"project\", \"token\", \"user\", \"web\", \"request\", \"service\", \"application\", \"io\", \"server\", \"simple\", \"detail\", \"system\", \"endpoint\", \"code\", \"request\", \"document\", \"com\", \"use\", \"http\", \"example\", \"oauth\", \"new\", \"authorization\", \"information\", \"token\", \"using\", \"status\", \"used\", \"service\", \"find\", \"documentation\", \"web\", \"get\", \"data\", \"key\", \"app\", \"access\", \"server\", \"create\", \"security\", \"user\", \"rest\", \"order\", \"simple\", \"inventory\", \"simple_inventory\", \"document\", \"describe\", \"security\", \"detail\", \"create\", \"authorization\", \"access\", \"test\", \"system\", \"example\", \"new\", \"code\", \"link\", \"endpoint\", \"flow\", \"using\", \"specification\", \"project\", \"operation\", \"token\", \"transaction\", \"used\", \"web\", \"key\", \"request\", \"use\", \"rest\", \"data\", \"documentation\", \"application\", \"oauth\", \"http\", \"com\", \"payment\", \"server\", \"find\", \"order\", \"specification\", \"flow\", \"security\", \"project\", \"describe\", \"oauth\", \"example\", \"using\", \"application\", \"sample\", \"service\", \"access\", \"code\", \"transaction\", \"detail\", \"web\", \"new\", \"document\", \"used\", \"information\", \"create\", \"authorization\", \"test\", \"system\", \"endpoint\", \"link\", \"request\", \"operation\", \"token\", \"key\", \"status\", \"payment\", \"data\", \"get\", \"use\", \"documentation\", \"http\", \"user\", \"service\", \"access\", \"application\", \"get\", \"information\", \"used\", \"use\", \"new\", \"using\", \"create\", \"request\", \"token\", \"security\", \"describe\", \"document\", \"detail\", \"authorization\", \"test\", \"example\", \"system\", \"code\", \"link\", \"endpoint\", \"flow\", \"transaction\", \"specification\", \"key\", \"project\", \"operation\", \"app\", \"data\", \"rest\", \"simple\", \"sample\", \"oauth\", \"web\", \"server\", \"inventory\", \"simple_inventory\", \"documentation\", \"web\", \"rest\", \"test\", \"using\", \"service\", \"business\", \"access\", \"new\", \"use\", \"key\", \"security\", \"describe\", \"code\", \"request\", \"document\", \"detail\", \"authorization\", \"create\", \"system\", \"example\", \"link\", \"operation\", \"endpoint\", \"flow\", \"specification\", \"project\", \"information\", \"transaction\", \"token\", \"find\", \"application\", \"com\", \"simple\", \"used\", \"simple_inventory\", \"inventory\", \"get\", \"sample\", \"http\", \"swagger\", \"key\", \"token\", \"authorization\", \"use\", \"test\", \"access\", \"create\", \"request\", \"data\", \"system\", \"link\", \"describe\", \"transaction\", \"find\", \"net\", \"code\", \"example\", \"sample\", \"service\", \"http\", \"user\", \"server\", \"security\", \"document\", \"detail\", \"swagger\", \"endpoint\", \"new\", \"project\", \"operation\", \"get\", \"web\", \"used\", \"com\", \"de\", \"oauth\", \"de\", \"rest\", \"token\", \"security\", \"application\", \"information\", \"operation\", \"http\", \"web\", \"status\", \"oauth\", \"net\", \"com\", \"describe\", \"document\", \"access\", \"detail\", \"authorization\", \"create\", \"test\", \"example\", \"system\", \"code\", \"new\", \"link\", \"endpoint\", \"simple\", \"flow\", \"using\", \"specification\", \"data\", \"transaction\", \"service\", \"simple_inventory\", \"inventory\", \"app\", \"user\", \"documentation\", \"doc\", \"get\", \"data\", \"used\", \"server\", \"endpoint\", \"project\", \"information\", \"find\", \"application\", \"security\", \"describe\", \"document\", \"detail\", \"create\", \"authorization\", \"access\", \"system\", \"test\", \"example\", \"code\", \"new\", \"link\", \"get\", \"flow\", \"using\", \"specification\", \"operation\", \"transaction\", \"token\", \"key\", \"use\", \"com\", \"http\", \"simple\", \"inventory\", \"documentation\", \"simple_inventory\", \"net\", \"rest\", \"oauth\", \"request\", \"status\", \"web\", \"service\"], \"Freq\": [208.0, 121.0, 151.0, 520.0, 206.0, 94.0, 136.0, 163.0, 199.0, 92.0, 87.0, 70.0, 261.0, 251.0, 145.0, 58.0, 64.0, 126.0, 109.0, 54.0, 106.0, 46.0, 167.0, 46.0, 166.0, 44.0, 64.0, 60.0, 64.0, 52.0, 261.027234004558, 250.16762587763006, 517.4044307404199, 166.15270628372613, 165.16378933374943, 83.12570684903962, 83.12569847264668, 83.12569847264668, 77.19419873069798, 64.34557003105105, 64.34557003105105, 64.34557003105105, 86.53117127897173, 84.34059375123996, 90.93301602498617, 101.92813743682626, 0.40419479191720287, 0.2451702808462679, 0.14675708729504203, 0.1003322709811703, 0.10033225462102784, 0.10202045772068483, 0.09884327715608424, 0.09934060094642169, 0.09983600242002101, 0.16032052883572445, 0.10033303990786556, 0.09884333441658281, 0.10033228734131275, 0.09934157437489761, 0.10235355022101447, 0.10904676262068852, 0.10182142840768088, 0.10089108436691488, 0.10139395424554368, 0.10411841694820312, 0.10182146112796578, 0.1008286704234592, 0.10046840372651622, 162.1512702819472, 108.52621815110666, 105.49268353035595, 141.68248116262066, 40.84625161143382, 77.5920385600709, 30.78104787446013, 69.55780936951075, 37.271692997590094, 22.27449527543641, 127.30847044993834, 121.37605520220428, 18.874891041505563, 33.83482383685315, 26.659790739135463, 4.187512076649081, 4.969025211293235, 0.0994775681785968, 0.0994771707284389, 0.10820217047943104, 0.09947910001774711, 0.0994788102103403, 0.10070638470433023, 0.0994773528930946, 0.10000116736059159, 0.0994777751838874, 0.10079500780933363, 0.09947717900865052, 0.10010946424841177, 0.09947885989161004, 0.11715234230530522, 0.1024978664504968, 0.10163246013269521, 0.10791804329779162, 0.10357604108616884, 0.10088175130629856, 0.10250812563269798, 0.10059760756423589, 0.10143906751002311, 0.101405731378028, 0.10114831615908511, 27.60855277387128, 28.936635997713427, 31.388344036849617, 29.04836934121416, 41.75233795253512, 11.584501243504477, 82.34331262300175, 17.15498111910607, 64.01477805908756, 8.928221106030813, 15.898632062797217, 8.321387541792271, 4.558832141630102, 8.04483508436322, 5.575292061758235, 4.442736054701218, 7.793517670614101, 4.02472160071875, 9.942491066367255, 6.660479504342443, 4.7647280307884365, 3.208202146879392, 2.5224347433740912, 1.7437195982375595, 1.1952282191217556, 2.5608874519368094, 0.2430558364425266, 0.9605013354994876, 0.13248970470471771, 0.09987747040426168, 0.2927449710540788, 0.15466239582183328, 0.1883881727900615, 206.6305984581241, 91.99381376234885, 86.43439199854322, 15.359159681356326, 0.09379729616486301, 0.09333059974017503, 0.11231004852469634, 0.09342946919163381, 0.09286487227628777, 0.09379679395956995, 0.09286514405797577, 0.09519701321618033, 0.09343907608347508, 0.0966727995986517, 0.09566219120839402, 0.09341924192854817, 0.09337640086290172, 0.09339137248893235, 0.09342637324370956, 0.09379685895084318, 0.09334204411255914, 0.0933324135875276, 0.09592423011371541, 0.09286477183522916, 0.09473035224127775, 0.13140649341760696, 0.09286418691377019, 0.0956645663440153, 0.09333115512014618, 0.09333288625133283, 0.09875399150775306, 0.1016695709239276, 0.09455116539271544, 0.09388887477712614, 0.09644950140046639, 0.09613130412678624, 0.09498839713744496, 0.09492843973375166, 0.0942633604017115, 0.09383261005941118, 39.01967475331754, 38.07061664974544, 21.92542553262304, 37.16785412785953, 20.98119830681806, 42.966112195603685, 22.287971218241722, 25.01826391429175, 30.659780672060652, 31.653673337135608, 26.742096001302823, 5.124600287237331, 3.955044713768539, 3.1581232627539446, 0.4987339686704698, 0.3698074413953926, 0.17593107032621919, 0.1357130964748677, 0.168951976463228, 0.2244374399138546, 0.10318098995392276, 0.09495753968563783, 0.0949598927075199, 0.09495908772634971, 0.09954898715598438, 0.09552934464352017, 0.11615650207654736, 0.09495798345730858, 0.09939346066579764, 0.0949593147723208, 0.16242717062754472, 0.14171846240981578, 0.10836497580741941, 0.1056106604917592, 0.09899326118096276, 0.10013767607789761, 0.10367671387095197, 92.26724086490306, 83.2239587395151, 15.488876756331866, 30.23191830585647, 27.493202586242543, 20.546210583074203, 11.372423581106482, 10.794874712750959, 6.656538509226034, 5.053725622108032, 1.6639853032349647, 1.8153843541604564, 0.25408294098878215, 0.10763104053652738, 0.10153378028854282, 0.10419522378179832, 0.09954997473899162, 0.10219141687626686, 0.10180297618504609, 0.10184505082302368, 0.10023842668252171, 0.10011722809791973, 0.09954086916939042, 0.10011094870810494, 0.1035332070697751, 0.11164307990886356, 0.10155195507816596, 0.11350091599153671, 0.10407769650470024, 0.10158657805239807, 0.2879145667059003, 0.12141043903721437, 0.11421327687081605, 0.15631602216055923, 0.1207979304521246, 0.10843838286637729, 0.10523580318688212, 0.10859245964540755, 0.10453300224694456, 0.10403318644491313, 64.84234646630475, 59.13934508435882, 47.673618332917755, 20.100048681229683, 4.350441761433022, 14.055340064228702, 4.029313263478599, 0.6408644250071059, 0.3024353451150779, 0.38095592406342466, 0.29733858196506796, 0.09620898467202972, 0.0962061972127081, 0.13216502115385878, 0.1802759381651692, 0.0962221108372879, 0.09622491760926072, 0.0975860410773157, 0.09621595010155859, 0.09773500599348753, 0.09669035894046815, 0.09669368715402307, 0.1169533213190677, 0.09684648885023113, 0.09620792247621432, 0.09854325975840207, 0.09622104220392211, 0.1426107706784082, 0.09621314332958578, 0.09621047818372168, 0.20022546909007066, 0.10667344815558137, 0.1378746391016025, 0.11043376940575601, 0.09755938961867475, 0.09813889146780494, 0.09815415489979472, 0.09766127672879799, 0.09813743658141535, 0.09857945810428081, 0.09794986567551653, 43.84560989023965, 36.06544491613784, 20.508183032302526, 23.0525235361649, 10.523841464475924, 9.080630770044918, 5.468861673879827, 6.900502674963247, 6.518356035375114, 3.3859105600871855, 3.428305631358246, 2.2116556602186757, 2.62259310629784, 5.226435590213099, 3.843643902936707, 1.056478165510059, 0.929570547447154, 3.1003267235462943, 2.213682316497343, 3.0035588803250532, 1.3581418254023547, 1.5967070101309144, 0.10532610324123161, 0.1158596181543577, 0.10613238886111659, 1.8278046241841728, 0.11425120472602053, 0.10696119497805388, 0.12414248500406544, 0.12062888699481239, 0.15614518315916426, 0.15136452450665433, 0.12580719967503343, 0.19643576580609648, 0.13846673431511833, 0.12469083319458381, 120.20804434844355, 5.822254208598958, 2.4113495812737753, 1.1491085559018361, 2.1603094997235215, 2.128006331748857, 1.1490979939830102, 4.538498767234413, 1.285553094125813, 1.566964434015258, 1.1496299177338207, 1.148719537039303, 1.6510514849429663, 0.10446747835373726, 0.10448897433953595, 0.11307654092007766, 0.10446758468177914, 0.10446750493574773, 0.1044675315177582, 0.10551686524166365, 0.10551672347094115, 0.10556643183051684, 0.10800103386595568, 0.10446749607507758, 0.10446747835373726, 0.10573619341003741, 0.589356133774713, 0.10446750493574773, 0.10446754037842836, 0.1044676112637896, 0.13612690978089137, 0.10852403492191905, 0.15762200065188675, 0.11443536899186527, 0.11495980547639394, 0.11520299542949806, 0.11138064409488212, 0.10587574896499588, 0.10508979866148029, 0.10499228698641248, 49.89707437100761, 25.170817629667443, 46.03583497254546, 4.131366506642305, 4.430947730614962, 6.363758071453104, 1.4654527092311347, 0.6964191048402345, 0.11017613895915726, 0.11021206506370898, 0.1102049219601545, 0.11017726770429441, 0.111550975806615, 0.11085217306159618, 0.11017667806131232, 0.11537112948857493, 0.1101803001539166, 0.11017907032712537, 0.11019749245858014, 0.11019001241617876, 0.11018092349078339, 0.1944874874272232, 0.11017269375944762, 0.11017928933737586, 0.11018948173749488, 0.11023045350127905, 0.11020952959888598, 0.11017757094925663, 0.11017372142293069, 0.11902937563112377, 0.2395813442175462, 0.2342984631899122, 0.16606864993573198, 0.1309517292952893, 0.12050548787249127, 0.11791859775798891, 0.11684421770379143, 0.11160985587011239, 0.1113030814734726, 0.11096017880897296, 0.11144972568311873, 0.11117243343558351, 0.11171803008691264], \"Total\": [208.0, 121.0, 151.0, 520.0, 206.0, 94.0, 136.0, 163.0, 199.0, 92.0, 87.0, 70.0, 261.0, 251.0, 145.0, 58.0, 64.0, 126.0, 109.0, 54.0, 106.0, 46.0, 167.0, 46.0, 166.0, 44.0, 64.0, 60.0, 64.0, 52.0, 261.9476211295952, 251.0747678899078, 520.0334322524711, 167.0579542485901, 166.06950639662372, 84.02969731103315, 84.02968894463504, 84.02968900648506, 78.09918600147655, 65.24949869082593, 65.24949870962878, 65.24949871805227, 92.22380032824944, 98.38640620684906, 126.41334057593184, 151.12379328333793, 31.73536649157092, 46.199840493322036, 30.0042038857896, 23.886894265238027, 23.99875499609977, 27.811844428147232, 28.943194372297405, 30.148017474773834, 31.094392900635068, 52.07715416239899, 32.853243544165686, 33.130458154515416, 34.805845249802665, 34.848816585408024, 36.33272932523556, 42.43249184126189, 38.98488523919454, 39.93433196278299, 51.27855004440307, 145.25358129486042, 60.75020451677727, 163.14939407702735, 39.48143041605302, 163.14939407702735, 109.43167042757783, 106.44496320991814, 145.25358129486042, 42.831769805333316, 82.43969406711743, 35.007933254416834, 79.68545607595793, 43.77058699282282, 30.148017474773834, 199.59720099176397, 206.3387595647313, 34.848816585408024, 64.70252471432624, 64.41124991953046, 30.0042038857896, 46.22886290791503, 23.886894265238027, 23.99875499609977, 28.943194372297405, 27.811844428147232, 31.094392900635068, 31.73536649157092, 32.853243544165686, 33.130458154515416, 34.805845249802665, 36.33272932523556, 38.98488523919454, 39.48143041605302, 39.93433196278299, 52.07715416239899, 42.43249184126189, 44.90835101008019, 94.63354926140644, 64.70450669129146, 51.27855004440307, 136.74317059607185, 64.37893853440194, 261.9476211295952, 151.12379328333793, 208.15541288697727, 28.943194372297405, 33.130458154515416, 36.33272932523556, 34.805845249802665, 51.27855004440307, 27.811844428147232, 206.3387595647313, 52.07715416239899, 199.59720099176397, 32.853243544165686, 60.75020451677727, 34.848816585408024, 30.0042038857896, 64.41124991953046, 44.90835101008019, 39.48143041605302, 79.68545607595793, 46.22886290791503, 136.74317059607185, 98.38640620684906, 70.4425110460635, 64.70450669129146, 64.70252471432624, 58.92046645610404, 46.199840493322036, 145.25358129486042, 31.094392900635068, 151.12379328333793, 30.148017474773834, 23.886894265238027, 94.63354926140644, 54.3698266801051, 163.14939407702735, 208.15541288697727, 92.94187245478945, 87.36786516979609, 27.811844428147232, 23.99875499609977, 23.886894265238027, 28.943194372297405, 30.148017474773834, 30.0042038857896, 31.094392900635068, 31.73536649157092, 33.130458154515416, 32.853243544165686, 34.848816585408024, 34.805845249802665, 35.007933254416834, 36.33272932523556, 38.98488523919454, 39.48143041605302, 39.93433196278299, 42.43249184126189, 42.831769805333316, 44.90835101008019, 43.77058699282282, 46.22886290791503, 64.70450669129146, 46.199840493322036, 51.27855004440307, 52.07715416239899, 54.3698266801051, 58.92046645610404, 70.4425110460635, 64.37893853440194, 60.75020451677727, 199.59720099176397, 206.3387595647313, 106.44496320991814, 151.12379328333793, 98.38640620684906, 163.14939407702735, 39.93433196278299, 38.98488523919454, 23.886894265238027, 42.43249184126189, 23.99875499609977, 60.75020451677727, 32.853243544165686, 39.48143041605302, 64.37893853440194, 126.41334057593184, 136.74317059607185, 31.094392900635068, 34.805845249802665, 43.77058699282282, 28.943194372297405, 64.70450669129146, 34.848816585408024, 27.811844428147232, 46.22886290791503, 64.41124991953046, 30.148017474773834, 30.0042038857896, 31.73536649157092, 33.130458154515416, 36.33272932523556, 35.007933254416834, 51.27855004440307, 42.831769805333316, 44.90835101008019, 46.199840493322036, 79.68545607595793, 106.44496320991814, 58.92046645610404, 64.70252471432624, 52.07715416239899, 70.4425110460635, 199.59720099176397, 94.63354926140644, 136.74317059607185, 31.094392900635068, 64.37893853440194, 64.70252471432624, 64.41124991953046, 46.22886290791503, 52.07715416239899, 34.848816585408024, 39.48143041605302, 30.148017474773834, 51.27855004440307, 44.90835101008019, 23.886894265238027, 23.99875499609977, 27.811844428147232, 28.943194372297405, 30.0042038857896, 31.73536649157092, 32.853243544165686, 33.130458154515416, 34.805845249802665, 35.007933254416834, 36.33272932523556, 38.98488523919454, 43.77058699282282, 39.93433196278299, 46.199840493322036, 42.43249184126189, 42.831769805333316, 145.25358129486042, 58.92046645610404, 54.3698266801051, 208.15541288697727, 126.41334057593184, 60.75020451677727, 64.70450669129146, 151.12379328333793, 92.94187245478945, 87.36786516979609, 70.4425110460635, 64.70450669129146, 54.3698266801051, 31.73536649157092, 39.48143041605302, 136.74317059607185, 82.43969406711743, 31.094392900635068, 34.848816585408024, 52.07715416239899, 46.199840493322036, 23.886894265238027, 23.99875499609977, 34.805845249802665, 51.27855004440307, 27.811844428147232, 28.943194372297405, 30.0042038857896, 30.148017474773834, 33.130458154515416, 32.853243544165686, 35.007933254416834, 42.831769805333316, 36.33272932523556, 38.98488523919454, 39.93433196278299, 42.43249184126189, 64.41124991953046, 43.77058699282282, 44.90835101008019, 98.38640620684906, 64.37893853440194, 206.3387595647313, 208.15541288697727, 46.22886290791503, 87.36786516979609, 92.94187245478945, 64.70252471432624, 126.41334057593184, 199.59720099176397, 520.0334322524711, 46.199840493322036, 44.90835101008019, 30.0042038857896, 52.07715416239899, 31.73536649157092, 31.094392900635068, 30.148017474773834, 51.27855004440307, 58.92046645610404, 33.130458154515416, 35.007933254416834, 23.99875499609977, 43.77058699282282, 98.38640620684906, 92.22380032824944, 34.805845249802665, 32.853243544165686, 126.41334057593184, 136.74317059607185, 199.59720099176397, 94.63354926140644, 151.12379328333793, 23.886894265238027, 27.811844428147232, 28.943194372297405, 520.0334322524711, 36.33272932523556, 34.848816585408024, 42.43249184126189, 42.831769805333316, 64.70252471432624, 64.70450669129146, 46.22886290791503, 206.3387595647313, 121.13945163841433, 60.75020451677727, 121.13945163841433, 54.3698266801051, 44.90835101008019, 23.886894265238027, 64.37893853440194, 64.41124991953046, 42.831769805333316, 199.59720099176397, 64.70450669129146, 79.68545607595793, 60.75020451677727, 92.22380032824944, 206.3387595647313, 23.99875499609977, 27.811844428147232, 31.094392900635068, 28.943194372297405, 30.0042038857896, 30.148017474773834, 31.73536649157092, 32.853243544165686, 33.130458154515416, 34.805845249802665, 34.848816585408024, 35.007933254416834, 36.33272932523556, 208.15541288697727, 38.98488523919454, 39.48143041605302, 39.93433196278299, 58.92046645610404, 43.77058699282282, 136.74317059607185, 87.36786516979609, 92.94187245478945, 145.25358129486042, 94.63354926140644, 70.4425110460635, 109.43167042757783, 64.70252471432624, 58.92046645610404, 46.22886290791503, 151.12379328333793, 36.33272932523556, 42.43249184126189, 64.41124991953046, 98.38640620684906, 64.37893853440194, 23.886894265238027, 23.99875499609977, 27.811844428147232, 28.943194372297405, 30.148017474773834, 30.0042038857896, 31.094392900635068, 33.130458154515416, 31.73536649157092, 32.853243544165686, 34.805845249802665, 34.848816585408024, 35.007933254416834, 64.70252471432624, 38.98488523919454, 39.48143041605302, 39.93433196278299, 42.831769805333316, 43.77058699282282, 44.90835101008019, 46.199840493322036, 52.07715416239899, 206.3387595647313, 199.59720099176397, 208.15541288697727, 92.94187245478945, 70.4425110460635, 87.36786516979609, 92.22380032824944, 54.3698266801051, 60.75020451677727, 51.27855004440307, 79.68545607595793, 64.70450669129146, 136.74317059607185], \"Category\": [\"Default\", \"Default\", \"Default\", \"Default\", \"Default\", \"Default\", \"Default\", \"Default\", \"Default\", \"Default\", \"Default\", \"Default\", \"Default\", \"Default\", \"Default\", \"Default\", \"Default\", \"Default\", \"Default\", \"Default\", \"Default\", \"Default\", \"Default\", \"Default\", \"Default\", \"Default\", \"Default\", \"Default\", \"Default\", \"Default\", \"Topic1\", \"Topic1\", \"Topic1\", \"Topic1\", \"Topic1\", \"Topic1\", \"Topic1\", \"Topic1\", \"Topic1\", \"Topic1\", \"Topic1\", \"Topic1\", \"Topic1\", \"Topic1\", \"Topic1\", \"Topic1\", \"Topic1\", \"Topic1\", \"Topic1\", \"Topic1\", \"Topic1\", \"Topic1\", \"Topic1\", \"Topic1\", \"Topic1\", \"Topic1\", \"Topic1\", \"Topic1\", \"Topic1\", \"Topic1\", \"Topic1\", \"Topic1\", \"Topic1\", \"Topic1\", \"Topic1\", \"Topic1\", \"Topic1\", \"Topic1\", \"Topic1\", \"Topic2\", \"Topic2\", \"Topic2\", \"Topic2\", \"Topic2\", \"Topic2\", \"Topic2\", \"Topic2\", \"Topic2\", \"Topic2\", \"Topic2\", \"Topic2\", \"Topic2\", \"Topic2\", \"Topic2\", \"Topic2\", \"Topic2\", \"Topic2\", \"Topic2\", \"Topic2\", \"Topic2\", \"Topic2\", \"Topic2\", \"Topic2\", \"Topic2\", \"Topic2\", \"Topic2\", \"Topic2\", \"Topic2\", \"Topic2\", \"Topic2\", \"Topic2\", \"Topic2\", \"Topic2\", \"Topic2\", \"Topic2\", \"Topic2\", \"Topic2\", \"Topic2\", \"Topic2\", \"Topic2\", \"Topic3\", \"Topic3\", \"Topic3\", \"Topic3\", \"Topic3\", \"Topic3\", \"Topic3\", \"Topic3\", \"Topic3\", \"Topic3\", \"Topic3\", \"Topic3\", \"Topic3\", \"Topic3\", \"Topic3\", \"Topic3\", \"Topic3\", \"Topic3\", \"Topic3\", \"Topic3\", \"Topic3\", \"Topic3\", \"Topic3\", \"Topic3\", \"Topic3\", \"Topic3\", \"Topic3\", \"Topic3\", \"Topic3\", \"Topic3\", \"Topic3\", \"Topic3\", \"Topic3\", \"Topic4\", \"Topic4\", \"Topic4\", \"Topic4\", \"Topic4\", \"Topic4\", \"Topic4\", \"Topic4\", \"Topic4\", \"Topic4\", \"Topic4\", \"Topic4\", \"Topic4\", \"Topic4\", \"Topic4\", \"Topic4\", \"Topic4\", \"Topic4\", \"Topic4\", \"Topic4\", \"Topic4\", \"Topic4\", \"Topic4\", \"Topic4\", \"Topic4\", \"Topic4\", \"Topic4\", \"Topic4\", \"Topic4\", \"Topic4\", \"Topic4\", \"Topic4\", \"Topic4\", \"Topic4\", \"Topic4\", \"Topic4\", \"Topic4\", \"Topic4\", \"Topic4\", \"Topic4\", \"Topic5\", \"Topic5\", \"Topic5\", \"Topic5\", \"Topic5\", \"Topic5\", \"Topic5\", \"Topic5\", \"Topic5\", \"Topic5\", \"Topic5\", \"Topic5\", \"Topic5\", \"Topic5\", \"Topic5\", \"Topic5\", \"Topic5\", \"Topic5\", \"Topic5\", \"Topic5\", \"Topic5\", \"Topic5\", \"Topic5\", \"Topic5\", \"Topic5\", \"Topic5\", \"Topic5\", \"Topic5\", \"Topic5\", \"Topic5\", \"Topic5\", \"Topic5\", \"Topic5\", \"Topic5\", \"Topic5\", \"Topic5\", \"Topic5\", \"Topic6\", \"Topic6\", \"Topic6\", \"Topic6\", \"Topic6\", \"Topic6\", \"Topic6\", \"Topic6\", \"Topic6\", \"Topic6\", \"Topic6\", \"Topic6\", \"Topic6\", \"Topic6\", \"Topic6\", \"Topic6\", \"Topic6\", \"Topic6\", \"Topic6\", \"Topic6\", \"Topic6\", \"Topic6\", \"Topic6\", \"Topic6\", \"Topic6\", \"Topic6\", \"Topic6\", \"Topic6\", \"Topic6\", \"Topic6\", \"Topic6\", \"Topic6\", \"Topic6\", \"Topic6\", \"Topic6\", \"Topic6\", \"Topic6\", \"Topic6\", \"Topic6\", \"Topic6\", \"Topic7\", \"Topic7\", \"Topic7\", \"Topic7\", \"Topic7\", \"Topic7\", \"Topic7\", \"Topic7\", \"Topic7\", \"Topic7\", \"Topic7\", \"Topic7\", \"Topic7\", \"Topic7\", \"Topic7\", \"Topic7\", \"Topic7\", \"Topic7\", \"Topic7\", \"Topic7\", \"Topic7\", \"Topic7\", \"Topic7\", \"Topic7\", \"Topic7\", \"Topic7\", \"Topic7\", \"Topic7\", \"Topic7\", \"Topic7\", \"Topic7\", \"Topic7\", \"Topic7\", \"Topic7\", \"Topic7\", \"Topic7\", \"Topic7\", \"Topic7\", \"Topic7\", \"Topic7\", \"Topic7\", \"Topic8\", \"Topic8\", \"Topic8\", \"Topic8\", \"Topic8\", \"Topic8\", \"Topic8\", \"Topic8\", \"Topic8\", \"Topic8\", \"Topic8\", \"Topic8\", \"Topic8\", \"Topic8\", \"Topic8\", \"Topic8\", \"Topic8\", \"Topic8\", \"Topic8\", \"Topic8\", \"Topic8\", \"Topic8\", \"Topic8\", \"Topic8\", \"Topic8\", \"Topic8\", \"Topic8\", \"Topic8\", \"Topic8\", \"Topic8\", \"Topic8\", \"Topic8\", \"Topic8\", \"Topic8\", \"Topic8\", \"Topic8\", \"Topic9\", \"Topic9\", \"Topic9\", \"Topic9\", \"Topic9\", \"Topic9\", \"Topic9\", \"Topic9\", \"Topic9\", \"Topic9\", \"Topic9\", \"Topic9\", \"Topic9\", \"Topic9\", \"Topic9\", \"Topic9\", \"Topic9\", \"Topic9\", \"Topic9\", \"Topic9\", \"Topic9\", \"Topic9\", \"Topic9\", \"Topic9\", \"Topic9\", \"Topic9\", \"Topic9\", \"Topic9\", \"Topic9\", \"Topic9\", \"Topic9\", \"Topic9\", \"Topic9\", \"Topic9\", \"Topic9\", \"Topic9\", \"Topic9\", \"Topic9\", \"Topic9\", \"Topic9\", \"Topic10\", \"Topic10\", \"Topic10\", \"Topic10\", \"Topic10\", \"Topic10\", \"Topic10\", \"Topic10\", \"Topic10\", \"Topic10\", \"Topic10\", \"Topic10\", \"Topic10\", \"Topic10\", \"Topic10\", \"Topic10\", \"Topic10\", \"Topic10\", \"Topic10\", \"Topic10\", \"Topic10\", \"Topic10\", \"Topic10\", \"Topic10\", \"Topic10\", \"Topic10\", \"Topic10\", \"Topic10\", \"Topic10\", \"Topic10\", \"Topic10\", \"Topic10\", \"Topic10\", \"Topic10\", \"Topic10\", \"Topic10\", \"Topic10\", \"Topic10\", \"Topic10\", \"Topic10\", \"Topic10\", \"Topic10\", \"Topic10\"], \"logprob\": [30.0, 29.0, 28.0, 27.0, 26.0, 25.0, 24.0, 23.0, 22.0, 21.0, 20.0, 19.0, 18.0, 17.0, 16.0, 15.0, 14.0, 13.0, 12.0, 11.0, 10.0, 9.0, 8.0, 7.0, 6.0, 5.0, 4.0, 3.0, 2.0, 1.0, -2.15339994430542, -2.1958999633789062, -1.4692000150680542, -2.60509991645813, -2.6110999584198, -3.2976999282836914, -3.2976999282836914, -3.2976999282836914, -3.3717000484466553, -3.553800106048584, -3.553800106048584, -3.553800106048584, -3.257499933242798, -3.2832000255584717, -3.207900047302246, -3.0938000679016113, -8.623900413513184, -9.123800277709961, -9.63700008392334, -10.01729965209961, -10.01729965209961, -10.00059986114502, -10.03219985961914, -10.027199745178223, -10.022299766540527, -9.548600196838379, -10.01729965209961, -10.03219985961914, -10.01729965209961, -10.027199745178223, -9.997400283813477, -9.934000015258789, -10.002599716186523, -10.011699676513672, -10.006799697875977, -9.980299949645996, -10.002599716186523, -10.012399673461914, -10.015899658203125, -1.9485000371932983, -2.350100040435791, -2.3784000873565674, -2.0834999084472656, -3.327199935913086, -2.6856000423431396, -3.610100030899048, -2.7948999404907227, -3.418800115585327, -3.9335999488830566, -2.1903998851776123, -2.2381999492645264, -4.0991997718811035, -3.5155999660491943, -3.7539000511169434, -5.604899883270264, -5.433800220489502, -9.344900131225586, -9.344900131225586, -9.2608003616333, -9.344900131225586, -9.344900131225586, -9.332599639892578, -9.344900131225586, -9.339599609375, -9.344900131225586, -9.331700325012207, -9.344900131225586, -9.338500022888184, -9.344900131225586, -9.181300163269043, -9.3149995803833, -9.323399543762207, -9.263400077819824, -9.304499626159668, -9.330900192260742, -9.314900398254395, -9.333700180053711, -9.325300216674805, -9.325699806213379, -9.328200340270996, -2.7665998935699463, -2.719599962234497, -2.6382999420166016, -2.7158000469207764, -2.3529999256134033, -3.6350998878479004, -1.6739000082015991, -3.242500066757202, -1.9256000518798828, -3.8954999446868896, -3.31850004196167, -3.96589994430542, -4.567699909210205, -3.9997000694274902, -4.366399765014648, -4.593500137329102, -4.031499862670898, -4.692299842834473, -3.787899971008301, -4.188600063323975, -4.523499965667725, -4.919000148773193, -5.1595001220703125, -5.52869987487793, -5.906400203704834, -5.144400119781494, -7.499199867248535, -6.125100135803223, -8.105999946594238, -8.38860034942627, -7.313199996948242, -7.951300144195557, -7.754000186920166, -0.6754999756813049, -1.4846999645233154, -1.5470000505447388, -3.2746999263763428, -8.373000144958496, -8.378000259399414, -8.192899703979492, -8.376899719238281, -8.383000373840332, -8.373000144958496, -8.383000373840332, -8.358200073242188, -8.376799583435059, -8.34280014038086, -8.353300094604492, -8.376999855041504, -8.3774995803833, -8.377300262451172, -8.376999855041504, -8.373000144958496, -8.377900123596191, -8.378000259399414, -8.350600242614746, -8.383000373840332, -8.363100051879883, -8.035900115966797, -8.383000373840332, -8.353300094604492, -8.378000259399414, -8.378000259399414, -8.321499824523926, -8.292400360107422, -8.364999771118164, -8.371999740600586, -8.345100402832031, -8.348400115966797, -8.360400199890137, -8.361000061035156, -8.3681001663208, -8.372599601745605, -2.206899881362915, -2.231600046157837, -2.7832999229431152, -2.2555999755859375, -2.827399969100952, -2.110599994659424, -2.766900062561035, -2.651400089263916, -2.447999954223633, -2.416100025177002, -2.5848000049591064, -4.2368998527526855, -4.495999813079834, -4.7210001945495605, -6.566699981689453, -6.865799903869629, -7.608699798583984, -7.868199825286865, -7.649099826812744, -7.365200042724609, -8.14229965209961, -8.225299835205078, -8.225299835205078, -8.225299835205078, -8.178099632263184, -8.219300270080566, -8.023799896240234, -8.225299835205078, -8.179699897766113, -8.225299835205078, -7.688499927520752, -7.824900150299072, -8.093199729919434, -8.119000434875488, -8.183699607849121, -8.172200202941895, -8.137499809265137, -1.219099998474121, -1.3221999406814575, -3.003700017929077, -2.33489990234375, -2.429800033569336, -2.721100091934204, -3.3125998973846436, -3.3647000789642334, -3.8482000827789307, -4.123600006103516, -5.234600067138672, -5.147500038146973, -7.113900184631348, -7.972799777984619, -8.031100273132324, -8.00529956817627, -8.05090045928955, -8.024700164794922, -8.028499603271484, -8.02810001373291, -8.043999671936035, -8.04520034790039, -8.050999641418457, -8.04520034790039, -8.01159954071045, -7.936200141906738, -8.031000137329102, -7.9197001457214355, -8.006400108337402, -8.030599594116211, -6.988900184631348, -7.852399826049805, -7.91349983215332, -7.599599838256836, -7.857399940490723, -7.9653000831604, -7.995299816131592, -7.963900089263916, -8.001999855041504, -8.006799697875977, -1.2271000146865845, -1.319100022315979, -1.5347000360488892, -2.3982999324798584, -3.928800106048584, -2.75600004196167, -4.00540018081665, -5.843999862670898, -6.594900131225586, -6.364099979400635, -6.6118998527526855, -7.740300178527832, -7.740300178527832, -7.422699928283691, -7.112299919128418, -7.740099906921387, -7.740099906921387, -7.726099967956543, -7.740200042724609, -7.7245001792907715, -7.735300064086914, -7.735199928283691, -7.545000076293945, -7.733699798583984, -7.740300178527832, -7.716300010681152, -7.740099906921387, -7.346700191497803, -7.740200042724609, -7.740300178527832, -7.007299900054932, -7.63700008392334, -7.38040018081665, -7.602399826049805, -7.72629976272583, -7.720399856567383, -7.720200061798096, -7.725299835205078, -7.720399856567383, -7.71589994430542, -7.722300052642822, -1.5292999744415283, -1.7246999740600586, -2.2892000675201416, -2.1721999645233154, -2.956399917602539, -3.1038999557495117, -3.6108999252319336, -3.3784000873565674, -3.4354000091552734, -4.090400218963623, -4.077899932861328, -4.516300201416016, -4.345900058746338, -3.6563000679016113, -3.963599920272827, -5.255099773406982, -5.382999897003174, -4.178500175476074, -4.515399932861328, -4.21019983291626, -5.003900051116943, -4.842100143432617, -7.560699939727783, -7.465400218963623, -7.553100109100342, -4.706900119781494, -7.479400157928467, -7.545300006866455, -7.396299839019775, -7.425099849700928, -7.166999816894531, -7.1981000900268555, -7.382999897003174, -6.937399864196777, -7.287099838256836, -7.391900062561035, -0.2361000031232834, -3.263700008392334, -4.145199775695801, -4.88640022277832, -4.255099773406982, -4.270199775695801, -4.88640022277832, -3.5127999782562256, -4.774199962615967, -4.576200008392334, -4.885900020599365, -4.88670015335083, -4.523900032043457, -7.284200191497803, -7.283999919891357, -7.205100059509277, -7.284200191497803, -7.284200191497803, -7.284200191497803, -7.274199962615967, -7.274199962615967, -7.273799896240234, -7.250999927520752, -7.284200191497803, -7.284200191497803, -7.272200107574463, -5.554100036621094, -7.284200191497803, -7.284200191497803, -7.284200191497803, -7.019499778747559, -7.246099948883057, -6.872900009155273, -7.1930999755859375, -7.188499927520752, -7.186399936676025, -7.220200061798096, -7.2708001136779785, -7.278299808502197, -7.279200077056885, -1.0648000240325928, -1.7490999698638916, -1.145300030708313, -3.5562000274658203, -3.4860999584198, -3.1240999698638916, -4.592599868774414, -5.336599826812744, -7.1803998947143555, -7.180099964141846, -7.180200099945068, -7.1803998947143555, -7.168000221252441, -7.174300193786621, -7.1803998947143555, -7.134399890899658, -7.1803998947143555, -7.1803998947143555, -7.180200099945068, -7.180300235748291, -7.1803998947143555, -6.612100124359131, -7.180500030517578, -7.1803998947143555, -7.180300235748291, -7.179900169372559, -7.180099964141846, -7.1803998947143555, -7.180500030517578, -7.103099822998047, -6.403600215911865, -6.425899982452393, -6.770100116729736, -7.007699966430664, -7.090799808502197, -7.112500190734863, -7.121699810028076, -7.167500019073486, -7.170300006866455, -7.173299789428711, -7.168900012969971, -7.17140007019043, -7.166500091552734], \"loglift\": [30.0, 29.0, 28.0, 27.0, 26.0, 25.0, 24.0, 23.0, 22.0, 21.0, 20.0, 19.0, 18.0, 17.0, 16.0, 15.0, 14.0, 13.0, 12.0, 11.0, 10.0, 9.0, 8.0, 7.0, 6.0, 5.0, 4.0, 3.0, 2.0, 1.0, 0.9124, 0.9123, 0.9108, 0.9104, 0.9104, 0.9051, 0.9051, 0.9051, 0.9042, 0.9019, 0.9019, 0.9019, 0.8522, 0.7618, 0.5864, 0.522, -3.4474, -4.3229, -4.4044, -4.5567, -4.5614, -4.6922, -4.7637, -4.7994, -4.8254, -4.8674, -4.8754, -4.8988, -4.9332, -4.9443, -4.9562, -5.048, -5.0318, -5.0651, -5.3101, -6.3248, -5.4754, -6.4731, -5.0579, 1.5907, 1.5886, 1.5879, 1.572, 1.5494, 1.5363, 1.4682, 1.4609, 1.4361, 1.2942, 1.1472, 1.0662, 0.9837, 0.9486, 0.7147, -0.3724, -0.6335, -3.8843, -3.889, -3.9922, -4.0364, -4.148, -4.1561, -4.203, -4.2062, -4.2607, -4.2905, -4.3741, -4.3805, -4.3982, -4.5001, -4.429, -4.4942, -5.1795, -4.8404, -4.6342, -5.5991, -4.8646, -6.2596, -5.7099, -6.0326, 2.5019, 2.4138, 2.4029, 2.3683, 2.3436, 1.6734, 1.6305, 1.4387, 1.412, 1.2463, 1.2086, 1.117, 0.6649, 0.4689, 0.4629, 0.3646, 0.2244, 0.108, -0.0721, -0.1436, -0.1444, -0.455, -0.6954, -0.971, -1.1055, -1.489, -2.3023, -2.5092, -2.8782, -2.928, -3.2293, -3.3132, -4.2148, 2.6202, 2.6173, 2.6168, 2.0338, -2.9171, -2.9174, -2.9243, -3.1491, -3.1504, -3.1761, -3.2065, -3.2247, -3.235, -3.2599, -3.2692, -3.2987, -3.3363, -3.4066, -3.4189, -3.4263, -3.4919, -3.5013, -3.5213, -3.5281, -3.5628, -3.5718, -3.5821, -3.6567, -3.6968, -3.7399, -3.7638, -3.9133, -3.8959, -3.8449, -5.0075, -5.044, -4.3941, -4.7452, -4.323, -4.8334, 2.7397, 2.7392, 2.6772, 2.6304, 2.6285, 2.4166, 2.3749, 2.3067, 2.0211, 1.3782, 1.131, 0.9599, 0.5881, 0.1339, -1.2981, -2.4017, -2.5258, -2.5598, -2.8488, -2.8965, -2.9145, -2.9927, -3.0488, -3.0918, -3.1369, -3.141, -3.3272, -3.3487, -3.3504, -3.4244, -3.4327, -3.8586, -3.5355, -3.6549, -3.5025, -3.7931, -4.7999, 2.8648, 2.3936, 2.1932, 2.1342, 2.0343, 1.7475, 1.4877, 1.3165, 1.2347, 0.8344, -0.0068, -0.4508, -2.2846, -2.5122, -2.5752, -2.6968, -2.7823, -2.7921, -2.852, -2.8862, -2.9105, -2.9611, -2.9726, -3.0041, -3.0409, -3.0813, -3.0843, -3.1188, -3.1204, -3.154, -3.3334, -3.2946, -3.2754, -4.304, -4.0631, -3.4382, -3.5312, -4.3481, -3.9001, -3.843, 3.152, 3.1449, 3.1034, 2.7782, 1.0293, 0.9598, 0.2164, -0.6471, -1.512, -1.6829, -1.811, -2.2797, -2.2844, -2.3386, -2.4157, -2.4317, -2.4715, -2.4935, -2.5124, -2.5911, -2.5934, -2.6569, -2.6684, -2.6925, -2.7695, -2.7696, -2.8541, -2.878, -2.8853, -2.911, -2.9623, -3.1679, -4.0761, -4.3067, -2.926, -3.5566, -3.6183, -3.2612, -3.9261, -4.3783, -5.3423, 3.2716, 3.1046, 2.9434, 2.5089, 2.2201, 2.093, 1.6168, 1.3182, 1.1223, 1.0431, 1.0004, 0.9396, 0.5091, 0.3887, 0.1461, -0.1709, -0.2412, -0.3842, -0.7996, -0.8726, -0.92, -1.2263, -2.1001, -2.1569, -2.2845, -2.3269, -2.4382, -2.4624, -2.5103, -2.5484, -2.7029, -2.734, -2.5827, -3.633, -3.4502, -2.8648, 3.6008, 1.3744, 0.6841, 0.5742, 0.214, 0.1984, -0.0098, -0.1752, -0.3101, -0.3204, -0.3588, -0.777, -1.2196, -1.8283, -1.9756, -2.0082, -2.0157, -2.0517, -2.0564, -2.0978, -2.1324, -2.1403, -2.1669, -2.2014, -2.2059, -2.231, -2.2585, -2.3135, -2.3262, -2.3376, -2.4618, -2.3912, -3.1571, -3.0293, -3.0866, -3.531, -3.1363, -2.8917, -3.3397, -2.8151, 3.4929, 3.0512, 2.4705, 1.485, 1.3998, 1.3445, -0.5476, -0.8674, -1.7199, -1.7242, -1.8717, -1.9119, -1.9402, -1.9417, -1.9835, -2.0009, -2.0039, -2.0386, -2.0961, -2.0974, -2.1021, -2.148, -2.2097, -2.2223, -2.2336, -2.3033, -2.3252, -2.3511, -2.3795, -2.422, -3.0992, -3.0883, -3.4745, -2.9058, -2.7117, -2.9487, -3.012, -2.5294, -2.6431, -2.4767, -2.9131, -2.7074, -3.4507]}, \"token.table\": {\"Topic\": [5, 6, 7, 8, 2, 3, 5, 6, 9, 10, 2, 3, 8, 2, 7, 3, 5, 8, 2, 3, 9, 2, 6, 8, 3, 8, 10, 9, 5, 8, 3, 2, 3, 4, 3, 7, 3, 10, 3, 5, 8, 1, 3, 8, 10, 5, 1, 2, 3, 6, 2, 3, 8, 9, 2, 3, 6, 9, 10, 4, 1, 1, 1, 3, 8, 2, 8, 1, 8, 9, 1, 2, 3, 6, 1, 1, 3, 5, 9, 2, 9, 2, 2, 1, 5, 10, 3, 6, 8, 7, 9, 1, 5, 8, 1, 5, 9, 1, 3, 8, 10, 1, 3, 5, 6, 7, 8, 4, 9, 4, 5, 2, 3, 9, 1, 8, 1, 3, 8, 7, 8, 3, 8, 9, 2, 5, 8, 3, 6, 8, 2, 3, 6, 10, 6, 8, 3, 5, 6, 7, 3, 7, 9], \"Freq\": [0.16080069535295158, 0.48240208605885476, 0.032160139070590316, 0.28944125163531287, 0.9776006810582126, 0.02065353551531435, 0.48152393788590725, 0.4659909076315231, 0.03106606050876821, 0.015533030254384106, 0.13331465201429504, 0.1666433150178688, 0.6999019230750491, 0.9461461603253537, 0.048520315914120704, 0.833193384383171, 0.11492322543216152, 0.02873080635804038, 0.5864143036201622, 0.397404734684738, 0.009692798406944831, 0.7297328926656077, 0.06633935387869161, 0.16584838469672902, 0.03394406256932822, 0.11880421899264877, 0.8486015642332055, 0.9905938847914266, 0.8750453931219715, 0.0833376564878068, 0.9674122227089015, 0.9960553427916143, 0.4314708444095599, 0.5393385555119499, 0.07097986607448475, 0.9227382589683017, 0.8532251932548426, 0.1100935733232055, 0.2739455538964062, 0.6696446873023263, 0.030438394877378466, 0.8537764843589991, 0.07114804036324993, 0.0508200288308928, 0.01016400576617856, 0.9747367413511235, 0.9877461285569487, 0.5254818131149652, 0.0463660423336734, 0.4172943810030606, 0.6362814677207845, 0.3206457790088993, 0.015030270891042153, 0.025050451485070256, 0.41918143233878147, 0.12420190587815746, 0.3260300029301633, 0.031050476469539366, 0.09315142940861809, 0.989866005171699, 0.9963824022317562, 0.9936671423198693, 0.9877461292839788, 0.021645096375268767, 0.9523842405118258, 0.8855135713014087, 0.08569486173884601, 0.94335735125145, 0.043372751781675864, 0.010843187945418966, 0.9877460309392553, 0.5452122012073065, 0.22956303208728696, 0.20086765307637608, 0.9859257687851475, 0.9808504473698831, 0.2633735989412399, 0.7078165471545823, 0.016460849933827494, 0.9572333850863844, 0.023347155733814254, 0.9929549595723004, 0.9864252552084728, 0.993559886942342, 0.8719733014600083, 0.09426738394162253, 0.8190559203337732, 0.03900266287303682, 0.13650932005562885, 0.8828426156738893, 0.11035532695923617, 0.7198607329369613, 0.2531378401536567, 0.023731672514405316, 0.9808504476525333, 0.9210071328534336, 0.04186396058424698, 0.6749433546097069, 0.006617091711859872, 0.013234183423719743, 0.3043862187455541, 0.9808504472432586, 0.07312979475617969, 0.19745044584168517, 0.6069772964762914, 0.10238171265865156, 0.014625958951235939, 0.9944492777249822, 0.004804102790941943, 0.9843436122979805, 0.9766032905307206, 0.8784539042265688, 0.10039473191160786, 0.025098682977901965, 0.9941668514669679, 0.0038459065820772454, 0.9957193313412558, 0.8753274664886436, 0.09055111722296312, 0.6302117231043197, 0.3466164477073758, 0.13360544008069306, 0.8016326404841583, 0.04453514669356435, 0.8453165137142663, 0.06853917678764322, 0.06853917678764322, 0.3264387287175232, 0.2112250597583974, 0.4416523976766491, 0.10815753807225767, 0.08652603045780613, 0.23794658375896685, 0.5407876903612884, 0.9721710822223123, 0.010567076980677307, 0.10131345186454067, 0.6332090741533792, 0.12664181483067585, 0.10131345186454067, 0.04636462208595693, 0.9118375676904863, 0.01545487402865231], \"Term\": [\"access\", \"access\", \"access\", \"access\", \"app\", \"app\", \"application\", \"application\", \"application\", \"application\", \"authorization\", \"authorization\", \"authorization\", \"business\", \"business\", \"code\", \"code\", \"code\", \"com\", \"com\", \"com\", \"create\", \"create\", \"create\", \"data\", \"data\", \"data\", \"de\", \"describe\", \"describe\", \"detail\", \"doc\", \"document\", \"document\", \"documentation\", \"documentation\", \"endpoint\", \"endpoint\", \"example\", \"example\", \"example\", \"find\", \"find\", \"find\", \"find\", \"flow\", \"freenode\", \"get\", \"get\", \"get\", \"http\", \"http\", \"http\", \"http\", \"information\", \"information\", \"information\", \"information\", \"information\", \"inventory\", \"io\", \"irc\", \"irc_freenode\", \"key\", \"key\", \"link\", \"link\", \"net\", \"net\", \"net\", \"net_swagger\", \"new\", \"new\", \"new\", \"nout\", \"nout_swagger\", \"oauth\", \"oauth\", \"oauth\", \"operation\", \"operation\", \"order\", \"payment\", \"petstore\", \"project\", \"project\", \"request\", \"request\", \"request\", \"rest\", \"rest\", \"sample\", \"sample\", \"sample\", \"sample_petstore\", \"security\", \"security\", \"server\", \"server\", \"server\", \"server\", \"server_find\", \"service\", \"service\", \"service\", \"service\", \"service\", \"simple\", \"simple\", \"simple_inventory\", \"specification\", \"status\", \"status\", \"status\", \"swagger\", \"swagger\", \"swagger_io\", \"system\", \"system\", \"test\", \"test\", \"token\", \"token\", \"token\", \"transaction\", \"transaction\", \"transaction\", \"use\", \"use\", \"use\", \"used\", \"used\", \"used\", \"used\", \"user\", \"user\", \"using\", \"using\", \"using\", \"using\", \"web\", \"web\", \"web\"]}, \"R\": 30, \"lambda.step\": 0.01, \"plot.opts\": {\"xlab\": \"PC1\", \"ylab\": \"PC2\"}, \"topic.order\": [4, 9, 3, 5, 2, 10, 1, 6, 8, 7]};\n\nfunction LDAvis_load_lib(url, callback){\n  var s = document.createElement('script');\n  s.src = url;\n  s.async = true;\n  s.onreadystatechange = s.onload = callback;\n  s.onerror = function(){console.warn(\"failed to load library \" + url);};\n  document.getElementsByTagName(\"head\")[0].appendChild(s);\n}\n\nif(typeof(LDAvis) !== \"undefined\"){\n   // already loaded: just create the visualization\n   !function(LDAvis){\n       new LDAvis(\"#\" + \"ldavis_el1360420415130346884702028055\", ldavis_el1360420415130346884702028055_data);\n   }(LDAvis);\n}else if(typeof define === \"function\" && define.amd){\n   // require.js is available: use it to load d3/LDAvis\n   require.config({paths: {d3: \"https://cdnjs.cloudflare.com/ajax/libs/d3/3.5.5/d3.min\"}});\n   require([\"d3\"], function(d3){\n      window.d3 = d3;\n      LDAvis_load_lib(\"https://cdn.rawgit.com/bmabey/pyLDAvis/files/ldavis.v1.0.0.js\", function(){\n        new LDAvis(\"#\" + \"ldavis_el1360420415130346884702028055\", ldavis_el1360420415130346884702028055_data);\n      });\n    });\n}else{\n    // require.js not available: dynamically load d3 & LDAvis\n    LDAvis_load_lib(\"https://cdnjs.cloudflare.com/ajax/libs/d3/3.5.5/d3.min.js\", function(){\n         LDAvis_load_lib(\"https://cdn.rawgit.com/bmabey/pyLDAvis/files/ldavis.v1.0.0.js\", function(){\n                 new LDAvis(\"#\" + \"ldavis_el1360420415130346884702028055\", ldavis_el1360420415130346884702028055_data);\n            })\n         });\n}\n</script>"
     },
     "metadata": {},
     "execution_count": 65
    }
   ],
   "source": [
    "import pyLDAvis\n",
    "import pyLDAvis.gensim\n",
    "# Visualize the topics\n",
    "pyLDAvis.enable_notebook()\n",
    "vis = pyLDAvis.gensim.prepare(model, corpus, dictionary)\n",
    "vis"
   ]
  },
  {
   "source": [
    "# Salvar Modelo pre-treinado em disco"
   ],
   "cell_type": "markdown",
   "metadata": {}
  },
  {
   "cell_type": "code",
   "execution_count": null,
   "metadata": {},
   "outputs": [],
   "source": [
    "from gensim.test.utils import datapath\n",
    "# Save model to disk.\n",
    "\n",
    "temp_file = datapath(\"model\")\n",
    "\n",
    "lda.save(temp_file)\n",
    "# Load a potentially pretrained model from disk.\n",
    "#lda = LdaModel.load(temp_file)"
   ]
  }
 ]
}